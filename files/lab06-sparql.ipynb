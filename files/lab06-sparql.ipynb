{
 "cells": [
  {
   "cell_type": "code",
   "execution_count": 1,
   "metadata": {},
   "outputs": [
    {
     "data": {
      "text/html": [
       "<div class=\"krn-spql\"><div class=\"magic\">Endpoint set to: http://dbpedia.org/sparql</div><div class=\"magic\">Display: table</div><div class=\"magic\">Result maximum size: unlimited</div></div>"
      ],
      "text/plain": [
       "Endpoint set to: http://dbpedia.org/sparql\n",
       "Display: table\n",
       "Result maximum size: unlimited\n"
      ]
     },
     "metadata": {},
     "output_type": "display_data"
    }
   ],
   "source": [
    "%endpoint http://dbpedia.org/sparql\n",
    "%display table\n",
    "%show all"
   ]
  },
  {
   "cell_type": "markdown",
   "metadata": {},
   "source": [
    "# SPARQL\n",
    "## Em todas as questões e exercícios a seguir você pode limitar a saída para 20 itens usando a cláusula LIMIT 20."
   ]
  },
  {
   "cell_type": "markdown",
   "metadata": {},
   "source": [
    "# Exemplo\n",
    "## Quem é autor de The Tin Drum?"
   ]
  },
  {
   "cell_type": "code",
   "execution_count": 6,
   "metadata": {},
   "outputs": [
    {
     "data": {
      "text/html": [
       "<div class=\"krn-spql\"><table><tr class=hdr><th>aut</th></tr><tr class=odd><td class=val><a href=\"http://dbpedia.org/resource/Günter_Grass\" target=\"_other\">http://dbpedia.org/resource/Günter_Grass</a></td></tr></table><div class=\"tinfo\">Total: 1, Shown: 1</div></div>"
      ]
     },
     "metadata": {},
     "output_type": "display_data"
    }
   ],
   "source": [
    "select ?aut\n",
    "  where {dbr:The_Tin_Drum dbo:author ?aut}"
   ]
  },
  {
   "cell_type": "markdown",
   "metadata": {},
   "source": [
    "# Questão\n",
    "## Quais os livros escritos por Günter Grass?"
   ]
  },
  {
   "cell_type": "code",
   "execution_count": 5,
   "metadata": {},
   "outputs": [
    {
     "data": {
      "text/html": [
       "<div class=\"krn-spql\"><table><tr class=hdr><th>livro</th></tr><tr class=odd><td class=val><a href=\"http://dbpedia.org/resource/Cat_and_Mouse_(novella)\" target=\"_other\">http://dbpedia.org/resource/Cat_and_Mouse_(novella)</a></td></tr><tr class=even><td class=val><a href=\"http://dbpedia.org/resource/The_Rat_(novel)\" target=\"_other\">http://dbpedia.org/resource/The_Rat_(novel)</a></td></tr><tr class=odd><td class=val><a href=\"http://dbpedia.org/resource/The_Tin_Drum\" target=\"_other\">http://dbpedia.org/resource/The_Tin_Drum</a></td></tr><tr class=even><td class=val><a href=\"http://dbpedia.org/resource/Dog_Years_(novel)\" target=\"_other\">http://dbpedia.org/resource/Dog_Years_(novel)</a></td></tr><tr class=odd><td class=val><a href=\"http://dbpedia.org/resource/The_Meeting_at_Telgte\" target=\"_other\">http://dbpedia.org/resource/The_Meeting_at_Telgte</a></td></tr><tr class=even><td class=val><a href=\"http://dbpedia.org/resource/The_Box_(Grass_book)\" target=\"_other\">http://dbpedia.org/resource/The_Box_(Grass_book)</a></td></tr><tr class=odd><td class=val><a href=\"http://dbpedia.org/resource/Local_Anaesthetic_(novel)\" target=\"_other\">http://dbpedia.org/resource/Local_Anaesthetic_(novel)</a></td></tr><tr class=even><td class=val><a href=\"http://dbpedia.org/resource/Crabwalk\" target=\"_other\">http://dbpedia.org/resource/Crabwalk</a></td></tr><tr class=odd><td class=val><a href=\"http://dbpedia.org/resource/The_Call_of_the_Toad\" target=\"_other\">http://dbpedia.org/resource/The_Call_of_the_Toad</a></td></tr><tr class=even><td class=val><a href=\"http://dbpedia.org/resource/The_Flounder\" target=\"_other\">http://dbpedia.org/resource/The_Flounder</a></td></tr></table><div class=\"tinfo\">Total: 10, Shown: 10</div></div>"
      ]
     },
     "metadata": {},
     "output_type": "display_data"
    }
   ],
   "source": [
    "select ?livro\n",
    "  where {?livro dbo:author dbr:Günter_Grass}"
   ]
  },
  {
   "cell_type": "markdown",
   "metadata": {},
   "source": [
    "# Exemplo\n",
    "## Quais os escritores?"
   ]
  },
  {
   "cell_type": "code",
   "execution_count": 7,
   "metadata": {},
   "outputs": [
    {
     "data": {
      "text/html": [
       "<div class=\"krn-spql\"><table><tr class=hdr><th>wri</th></tr><tr class=odd><td class=val><a href=\"http://dbpedia.org/resource/Abbie_Hoffman\" target=\"_other\">http://dbpedia.org/resource/Abbie_Hoffman</a></td></tr><tr class=even><td class=val><a href=\"http://dbpedia.org/resource/Adam_Oehlenschläger\" target=\"_other\">http://dbpedia.org/resource/Adam_Oehlenschläger</a></td></tr><tr class=odd><td class=val><a href=\"http://dbpedia.org/resource/Adam_Wiśniewski-Snerg\" target=\"_other\">http://dbpedia.org/resource/Adam_Wiśniewski-Snerg</a></td></tr><tr class=even><td class=val><a href=\"http://dbpedia.org/resource/Adrienne_Rich\" target=\"_other\">http://dbpedia.org/resource/Adrienne_Rich</a></td></tr><tr class=odd><td class=val><a href=\"http://dbpedia.org/resource/Alessandro_Manzoni\" target=\"_other\">http://dbpedia.org/resource/Alessandro_Manzoni</a></td></tr><tr class=even><td class=val><a href=\"http://dbpedia.org/resource/Alfred_Bester\" target=\"_other\">http://dbpedia.org/resource/Alfred_Bester</a></td></tr><tr class=odd><td class=val><a href=\"http://dbpedia.org/resource/Alice_Walker\" target=\"_other\">http://dbpedia.org/resource/Alice_Walker</a></td></tr><tr class=even><td class=val><a href=\"http://dbpedia.org/resource/Amy_Tan\" target=\"_other\">http://dbpedia.org/resource/Amy_Tan</a></td></tr><tr class=odd><td class=val><a href=\"http://dbpedia.org/resource/Andrew_Marvell\" target=\"_other\">http://dbpedia.org/resource/Andrew_Marvell</a></td></tr><tr class=even><td class=val><a href=\"http://dbpedia.org/resource/Andrew_Sarris\" target=\"_other\">http://dbpedia.org/resource/Andrew_Sarris</a></td></tr><tr class=odd><td class=val><a href=\"http://dbpedia.org/resource/André_Breton\" target=\"_other\">http://dbpedia.org/resource/André_Breton</a></td></tr><tr class=even><td class=val><a href=\"http://dbpedia.org/resource/André_Malraux\" target=\"_other\">http://dbpedia.org/resource/André_Malraux</a></td></tr><tr class=odd><td class=val><a href=\"http://dbpedia.org/resource/Anne_Desclos\" target=\"_other\">http://dbpedia.org/resource/Anne_Desclos</a></td></tr><tr class=even><td class=val><a href=\"http://dbpedia.org/resource/Anthony_Burgess\" target=\"_other\">http://dbpedia.org/resource/Anthony_Burgess</a></td></tr><tr class=odd><td class=val><a href=\"http://dbpedia.org/resource/Arthur_Machen\" target=\"_other\">http://dbpedia.org/resource/Arthur_Machen</a></td></tr><tr class=even><td class=val><a href=\"http://dbpedia.org/resource/Astrid_Lindgren\" target=\"_other\">http://dbpedia.org/resource/Astrid_Lindgren</a></td></tr><tr class=odd><td class=val><a href=\"http://dbpedia.org/resource/August_Strindberg\" target=\"_other\">http://dbpedia.org/resource/August_Strindberg</a></td></tr><tr class=even><td class=val><a href=\"http://dbpedia.org/resource/Augusto_Boal\" target=\"_other\">http://dbpedia.org/resource/Augusto_Boal</a></td></tr><tr class=odd><td class=val><a href=\"http://dbpedia.org/resource/Barry_Took\" target=\"_other\">http://dbpedia.org/resource/Barry_Took</a></td></tr><tr class=even><td class=val><a href=\"http://dbpedia.org/resource/Ben_Jonson\" target=\"_other\">http://dbpedia.org/resource/Ben_Jonson</a></td></tr></table><div class=\"tinfo\">Total: 20, Shown: 20</div></div>"
      ]
     },
     "metadata": {},
     "output_type": "display_data"
    }
   ],
   "source": [
    "select distinct ?wri\n",
    "  where {?wri rdf:type dbo:Writer}\n",
    "  limit 20"
   ]
  },
  {
   "cell_type": "markdown",
   "metadata": {},
   "source": [
    "# Questão\n",
    "## Quais as entidades de língua alemã?"
   ]
  },
  {
   "cell_type": "code",
   "execution_count": 9,
   "metadata": {},
   "outputs": [
    {
     "data": {
      "text/html": [
       "<div class=\"krn-spql\"><table><tr class=hdr><th>entidade</th></tr><tr class=odd><td class=val><a href=\"http://dbpedia.org/resource/History_of_Germans_in_Russia,_Ukraine_and_the_Soviet_Union\" target=\"_other\">http://dbpedia.org/resource/History_of_Germans_in_Russia,_Ukraine_and_the_Soviet_Union</a></td></tr><tr class=even><td class=val><a href=\"http://dbpedia.org/resource/Independent_Media_Center\" target=\"_other\">http://dbpedia.org/resource/Independent_Media_Center</a></td></tr><tr class=odd><td class=val><a href=\"http://dbpedia.org/resource/Walloons\" target=\"_other\">http://dbpedia.org/resource/Walloons</a></td></tr><tr class=even><td class=val><a href=\"http://dbpedia.org/resource/Cat_and_Mouse_(novella)\" target=\"_other\">http://dbpedia.org/resource/Cat_and_Mouse_(novella)</a></td></tr><tr class=odd><td class=val><a href=\"http://dbpedia.org/resource/Coup_de_Grâce_(1976_film)\" target=\"_other\">http://dbpedia.org/resource/Coup_de_Grâce_(1976_film)</a></td></tr><tr class=even><td class=val><a href=\"http://dbpedia.org/resource/Divided_We_Fall_(film)\" target=\"_other\">http://dbpedia.org/resource/Divided_We_Fall_(film)</a></td></tr><tr class=odd><td class=val><a href=\"http://dbpedia.org/resource/Virago_(EP)\" target=\"_other\">http://dbpedia.org/resource/Virago_(EP)</a></td></tr><tr class=even><td class=val><a href=\"http://dbpedia.org/resource/Algol_(film)\" target=\"_other\">http://dbpedia.org/resource/Algol_(film)</a></td></tr><tr class=odd><td class=val><a href=\"http://dbpedia.org/resource/Andreas_Mand\" target=\"_other\">http://dbpedia.org/resource/Andreas_Mand</a></td></tr><tr class=even><td class=val><a href=\"http://dbpedia.org/resource/Brigitte_(magazine)\" target=\"_other\">http://dbpedia.org/resource/Brigitte_(magazine)</a></td></tr><tr class=odd><td class=val><a href=\"http://dbpedia.org/resource/Das_Haus_Anubis\" target=\"_other\">http://dbpedia.org/resource/Das_Haus_Anubis</a></td></tr><tr class=even><td class=val><a href=\"http://dbpedia.org/resource/Doodle.com\" target=\"_other\">http://dbpedia.org/resource/Doodle.com</a></td></tr><tr class=odd><td class=val><a href=\"http://dbpedia.org/resource/Faust_(1926_film)\" target=\"_other\">http://dbpedia.org/resource/Faust_(1926_film)</a></td></tr><tr class=even><td class=val><a href=\"http://dbpedia.org/resource/Heliopolis_(Jünger_novel)\" target=\"_other\">http://dbpedia.org/resource/Heliopolis_(Jünger_novel)</a></td></tr><tr class=odd><td class=val><a href=\"http://dbpedia.org/resource/Hungarian_Testing_Board\" target=\"_other\">http://dbpedia.org/resource/Hungarian_Testing_Board</a></td></tr><tr class=even><td class=val><a href=\"http://dbpedia.org/resource/King_of_Thieves_(film)\" target=\"_other\">http://dbpedia.org/resource/King_of_Thieves_(film)</a></td></tr><tr class=odd><td class=val><a href=\"http://dbpedia.org/resource/Knockin'_on_Heaven's_Door_(1997_film)\" target=\"_other\">http://dbpedia.org/resource/Knockin'_on_Heaven's_Door_(1997_film)</a></td></tr><tr class=even><td class=val><a href=\"http://dbpedia.org/resource/Madame_Bovary_(1937_film)\" target=\"_other\">http://dbpedia.org/resource/Madame_Bovary_(1937_film)</a></td></tr><tr class=odd><td class=val><a href=\"http://dbpedia.org/resource/Madame_Bovary_(1969_film)\" target=\"_other\">http://dbpedia.org/resource/Madame_Bovary_(1969_film)</a></td></tr><tr class=even><td class=val><a href=\"http://dbpedia.org/resource/Parallels_Desktop_for_Mac\" target=\"_other\">http://dbpedia.org/resource/Parallels_Desktop_for_Mac</a></td></tr></table><div class=\"tinfo\">Total: 20, Shown: 20</div></div>"
      ]
     },
     "metadata": {},
     "output_type": "display_data"
    }
   ],
   "source": [
    "select ?entidade\n",
    "  where {?entidade dbo:language dbr:German_language}\n",
    "  limit 20"
   ]
  },
  {
   "cell_type": "markdown",
   "metadata": {},
   "source": [
    "# Questão\n",
    "## Quais os autores de língua alemã?"
   ]
  },
  {
   "cell_type": "code",
   "execution_count": 11,
   "metadata": {},
   "outputs": [
    {
     "data": {
      "text/html": [
       "<div class=\"krn-spql\"><table><tr class=hdr><th>wri</th></tr><tr class=odd><td class=val><a href=\"http://dbpedia.org/resource/Andreas_Mand\" target=\"_other\">http://dbpedia.org/resource/Andreas_Mand</a></td></tr><tr class=even><td class=val><a href=\"http://dbpedia.org/resource/Franz_Hohler\" target=\"_other\">http://dbpedia.org/resource/Franz_Hohler</a></td></tr><tr class=odd><td class=val><a href=\"http://dbpedia.org/resource/Enver_Čolaković\" target=\"_other\">http://dbpedia.org/resource/Enver_Čolaković</a></td></tr><tr class=even><td class=val><a href=\"http://dbpedia.org/resource/Toti_Martínez_de_Lezea\" target=\"_other\">http://dbpedia.org/resource/Toti_Martínez_de_Lezea</a></td></tr><tr class=odd><td class=val><a href=\"http://dbpedia.org/resource/Christabel_Bielenberg\" target=\"_other\">http://dbpedia.org/resource/Christabel_Bielenberg</a></td></tr><tr class=even><td class=val><a href=\"http://dbpedia.org/resource/Marius_von_Mayenburg\" target=\"_other\">http://dbpedia.org/resource/Marius_von_Mayenburg</a></td></tr><tr class=odd><td class=val><a href=\"http://dbpedia.org/resource/John_Milton\" target=\"_other\">http://dbpedia.org/resource/John_Milton</a></td></tr><tr class=even><td class=val><a href=\"http://dbpedia.org/resource/Max_Frisch\" target=\"_other\">http://dbpedia.org/resource/Max_Frisch</a></td></tr><tr class=odd><td class=val><a href=\"http://dbpedia.org/resource/Ludwig_Hohl\" target=\"_other\">http://dbpedia.org/resource/Ludwig_Hohl</a></td></tr><tr class=even><td class=val><a href=\"http://dbpedia.org/resource/Ferdinand_Blumentritt\" target=\"_other\">http://dbpedia.org/resource/Ferdinand_Blumentritt</a></td></tr><tr class=odd><td class=val><a href=\"http://dbpedia.org/resource/Stefan_George\" target=\"_other\">http://dbpedia.org/resource/Stefan_George</a></td></tr><tr class=even><td class=val><a href=\"http://dbpedia.org/resource/Stanisław_Przybyszewski\" target=\"_other\">http://dbpedia.org/resource/Stanisław_Przybyszewski</a></td></tr><tr class=odd><td class=val><a href=\"http://dbpedia.org/resource/Liu_Banjiu\" target=\"_other\">http://dbpedia.org/resource/Liu_Banjiu</a></td></tr><tr class=even><td class=val><a href=\"http://dbpedia.org/resource/Urs_Widmer\" target=\"_other\">http://dbpedia.org/resource/Urs_Widmer</a></td></tr><tr class=odd><td class=val><a href=\"http://dbpedia.org/resource/Angela_Steinmüller\" target=\"_other\">http://dbpedia.org/resource/Angela_Steinmüller</a></td></tr><tr class=even><td class=val><a href=\"http://dbpedia.org/resource/Günther_Krupkat\" target=\"_other\">http://dbpedia.org/resource/Günther_Krupkat</a></td></tr><tr class=odd><td class=val><a href=\"http://dbpedia.org/resource/Leonhard_Ennen\" target=\"_other\">http://dbpedia.org/resource/Leonhard_Ennen</a></td></tr><tr class=even><td class=val><a href=\"http://dbpedia.org/resource/Arno_Camenisch\" target=\"_other\">http://dbpedia.org/resource/Arno_Camenisch</a></td></tr><tr class=odd><td class=val><a href=\"http://dbpedia.org/resource/Oscar_Peer\" target=\"_other\">http://dbpedia.org/resource/Oscar_Peer</a></td></tr><tr class=even><td class=val><a href=\"http://dbpedia.org/resource/Ernst_Weiss\" target=\"_other\">http://dbpedia.org/resource/Ernst_Weiss</a></td></tr></table><div class=\"tinfo\">Total: 20, Shown: 20</div></div>"
      ]
     },
     "metadata": {},
     "output_type": "display_data"
    }
   ],
   "source": [
    "select ?wri\n",
    "  where {\n",
    "    ?wri rdf:type dbo:Writer.\n",
    "    ?wri dbo:language dbr:German_language}\n",
    "  limit 20"
   ]
  },
  {
   "cell_type": "markdown",
   "metadata": {},
   "source": [
    "# Questão\n",
    "## Quais os escritores traduzidos por Ralph Manheim?"
   ]
  },
  {
   "cell_type": "code",
   "execution_count": 13,
   "metadata": {},
   "outputs": [
    {
     "data": {
      "text/html": [
       "<div class=\"krn-spql\"><table><tr class=hdr><th>aut</th></tr><tr class=odd><td class=val><a href=\"http://dbpedia.org/resource/Peter_Handke\" target=\"_other\">http://dbpedia.org/resource/Peter_Handke</a></td></tr><tr class=even><td class=val><a href=\"http://dbpedia.org/resource/Peter_Handke\" target=\"_other\">http://dbpedia.org/resource/Peter_Handke</a></td></tr><tr class=odd><td class=val><a href=\"http://dbpedia.org/resource/Peter_Handke\" target=\"_other\">http://dbpedia.org/resource/Peter_Handke</a></td></tr><tr class=even><td class=val><a href=\"http://dbpedia.org/resource/Erich_Maria_Remarque\" target=\"_other\">http://dbpedia.org/resource/Erich_Maria_Remarque</a></td></tr><tr class=odd><td class=val><a href=\"http://dbpedia.org/resource/Louis-Ferdinand_Céline\" target=\"_other\">http://dbpedia.org/resource/Louis-Ferdinand_Céline</a></td></tr><tr class=even><td class=val><a href=\"http://dbpedia.org/resource/Louis-Ferdinand_Céline\" target=\"_other\">http://dbpedia.org/resource/Louis-Ferdinand_Céline</a></td></tr><tr class=odd><td class=val><a href=\"http://dbpedia.org/resource/Louis-Ferdinand_Céline\" target=\"_other\">http://dbpedia.org/resource/Louis-Ferdinand_Céline</a></td></tr><tr class=even><td class=val><a href=\"http://dbpedia.org/resource/Louis-Ferdinand_Céline\" target=\"_other\">http://dbpedia.org/resource/Louis-Ferdinand_Céline</a></td></tr><tr class=odd><td class=val><a href=\"http://dbpedia.org/resource/Louis-Ferdinand_Céline\" target=\"_other\">http://dbpedia.org/resource/Louis-Ferdinand_Céline</a></td></tr><tr class=even><td class=val><a href=\"http://dbpedia.org/resource/Günter_Grass\" target=\"_other\">http://dbpedia.org/resource/Günter_Grass</a></td></tr><tr class=odd><td class=val><a href=\"http://dbpedia.org/resource/Günter_Grass\" target=\"_other\">http://dbpedia.org/resource/Günter_Grass</a></td></tr><tr class=even><td class=val><a href=\"http://dbpedia.org/resource/Günter_Grass\" target=\"_other\">http://dbpedia.org/resource/Günter_Grass</a></td></tr><tr class=odd><td class=val><a href=\"http://dbpedia.org/resource/Günter_Grass\" target=\"_other\">http://dbpedia.org/resource/Günter_Grass</a></td></tr><tr class=even><td class=val><a href=\"http://dbpedia.org/resource/Günter_Grass\" target=\"_other\">http://dbpedia.org/resource/Günter_Grass</a></td></tr><tr class=odd><td class=val><a href=\"http://dbpedia.org/resource/Günter_Grass\" target=\"_other\">http://dbpedia.org/resource/Günter_Grass</a></td></tr><tr class=even><td class=val><a href=\"http://dbpedia.org/resource/Michael_Ende\" target=\"_other\">http://dbpedia.org/resource/Michael_Ende</a></td></tr></table><div class=\"tinfo\">Total: 16, Shown: 16</div></div>"
      ]
     },
     "metadata": {},
     "output_type": "display_data"
    }
   ],
   "source": [
    "select ?aut\n",
    "  where {\n",
    "\t?work dbo:translator dbr:Ralph_Manheim.\n",
    "\t?work dbo:author ?aut.\n",
    "\t?aut rdf:type dbo:Writer}"
   ]
  },
  {
   "cell_type": "markdown",
   "metadata": {},
   "source": [
    "# Exercício 1\n",
    "## Liste as cidades disponíveis na DBPedia."
   ]
  },
  {
   "cell_type": "code",
   "execution_count": 4,
   "metadata": {},
   "outputs": [
    {
     "data": {
      "text/html": [
       "<div class=\"krn-spql\"><table><tr class=hdr><th>cid</th></tr><tr class=odd><td class=val><a href=\"http://dbpedia.org/resource/Acre,_Israel\" target=\"_other\">http://dbpedia.org/resource/Acre,_Israel</a></td></tr><tr class=even><td class=val><a href=\"http://dbpedia.org/resource/Antioch\" target=\"_other\">http://dbpedia.org/resource/Antioch</a></td></tr><tr class=odd><td class=val><a href=\"http://dbpedia.org/resource/Ashkelon\" target=\"_other\">http://dbpedia.org/resource/Ashkelon</a></td></tr><tr class=even><td class=val><a href=\"http://dbpedia.org/resource/Balanjar\" target=\"_other\">http://dbpedia.org/resource/Balanjar</a></td></tr><tr class=odd><td class=val><a href=\"http://dbpedia.org/resource/Ctesiphon\" target=\"_other\">http://dbpedia.org/resource/Ctesiphon</a></td></tr><tr class=even><td class=val><a href=\"http://dbpedia.org/resource/Espoo\" target=\"_other\">http://dbpedia.org/resource/Espoo</a></td></tr><tr class=odd><td class=val><a href=\"http://dbpedia.org/resource/Gaza_City\" target=\"_other\">http://dbpedia.org/resource/Gaza_City</a></td></tr><tr class=even><td class=val><a href=\"http://dbpedia.org/resource/Haifa\" target=\"_other\">http://dbpedia.org/resource/Haifa</a></td></tr><tr class=odd><td class=val><a href=\"http://dbpedia.org/resource/Hebron\" target=\"_other\">http://dbpedia.org/resource/Hebron</a></td></tr><tr class=even><td class=val><a href=\"http://dbpedia.org/resource/Independent_city\" target=\"_other\">http://dbpedia.org/resource/Independent_city</a></td></tr><tr class=odd><td class=val><a href=\"http://dbpedia.org/resource/Jenin\" target=\"_other\">http://dbpedia.org/resource/Jenin</a></td></tr><tr class=even><td class=val><a href=\"http://dbpedia.org/resource/Khazaran\" target=\"_other\">http://dbpedia.org/resource/Khazaran</a></td></tr><tr class=odd><td class=val><a href=\"http://dbpedia.org/resource/Leptis_Magna\" target=\"_other\">http://dbpedia.org/resource/Leptis_Magna</a></td></tr><tr class=even><td class=val><a href=\"http://dbpedia.org/resource/Lord_Mayor_of_London\" target=\"_other\">http://dbpedia.org/resource/Lord_Mayor_of_London</a></td></tr><tr class=odd><td class=val><a href=\"http://dbpedia.org/resource/Petra\" target=\"_other\">http://dbpedia.org/resource/Petra</a></td></tr><tr class=even><td class=val><a href=\"http://dbpedia.org/resource/Porvoo\" target=\"_other\">http://dbpedia.org/resource/Porvoo</a></td></tr><tr class=odd><td class=val><a href=\"http://dbpedia.org/resource/Ramallah\" target=\"_other\">http://dbpedia.org/resource/Ramallah</a></td></tr><tr class=even><td class=val><a href=\"http://dbpedia.org/resource/Samandar_(city)\" target=\"_other\">http://dbpedia.org/resource/Samandar_(city)</a></td></tr><tr class=odd><td class=val><a href=\"http://dbpedia.org/resource/Sardis\" target=\"_other\">http://dbpedia.org/resource/Sardis</a></td></tr><tr class=even><td class=val><a href=\"http://dbpedia.org/resource/Segesta\" target=\"_other\">http://dbpedia.org/resource/Segesta</a></td></tr></table><div class=\"tinfo\">Total: 20, Shown: 20</div></div>"
      ]
     },
     "metadata": {},
     "output_type": "display_data"
    }
   ],
   "source": [
    "select distinct ?cid\n",
    "  where {{?cid rdf:type dbo:City} UNION {?cid rdf:type yago:City108524735}}\n",
    "  limit 20"
   ]
  },
  {
   "cell_type": "markdown",
   "metadata": {},
   "source": [
    "# Exercício 2\n",
    "## Liste todas as cidades administradas pelo partido socialista."
   ]
  },
  {
   "cell_type": "code",
   "execution_count": 16,
   "metadata": {},
   "outputs": [
    {
     "data": {
      "text/html": [
       "<div class=\"krn-spql\"><table><tr class=hdr><th>cid</th></tr></table><div class=\"tinfo\">Total: 0, Shown: 0</div></div>"
      ]
     },
     "metadata": {},
     "output_type": "display_data"
    }
   ],
   "source": [
    "select distinct ?cid\n",
    "  where {\n",
    "  {?cid rdf:type dbo:City} UNION {?cid rdf:type yago:City108524735}.\n",
    "  ?cid dbp:party <http://dbpedia.org/page/Socialist_Party_(France)>}\n",
    "  limit 20"
   ]
  },
  {
   "cell_type": "markdown",
   "metadata": {},
   "source": [
    "# Exercício 3\n",
    "## Quem é o prefeito de Paris?"
   ]
  },
  {
   "cell_type": "code",
   "execution_count": 9,
   "metadata": {},
   "outputs": [
    {
     "data": {
      "text/html": [
       "<div class=\"krn-spql\"><table><tr class=hdr><th>mayor</th></tr><tr class=odd><td class=val><a href=\"http://dbpedia.org/resource/Anne_Hidalgo\" target=\"_other\">http://dbpedia.org/resource/Anne_Hidalgo</a></td></tr></table><div class=\"tinfo\">Total: 1, Shown: 1</div></div>"
      ]
     },
     "metadata": {},
     "output_type": "display_data"
    }
   ],
   "source": [
    "select ?mayor\n",
    "  where {dbr:Paris dbo:mayor ?mayor}"
   ]
  },
  {
   "cell_type": "markdown",
   "metadata": {},
   "source": [
    "# Exercício 4\n",
    "## Liste todas as cidades administradas por um prefeito que nasceu em Paris."
   ]
  },
  {
   "cell_type": "code",
   "execution_count": 3,
   "metadata": {},
   "outputs": [
    {
     "data": {
      "text/html": [
       "<div class=\"krn-spql\"><table><tr class=hdr><th>cid</th></tr><tr class=odd><td class=val><a href=\"http://dbpedia.org/resource/Boulogne-Billancourt\" target=\"_other\">http://dbpedia.org/resource/Boulogne-Billancourt</a></td></tr><tr class=even><td class=val><a href=\"http://dbpedia.org/resource/Issy-les-Moulineaux\" target=\"_other\">http://dbpedia.org/resource/Issy-les-Moulineaux</a></td></tr><tr class=odd><td class=val><a href=\"http://dbpedia.org/resource/Bussy-Saint-Georges\" target=\"_other\">http://dbpedia.org/resource/Bussy-Saint-Georges</a></td></tr><tr class=even><td class=val><a href=\"http://dbpedia.org/resource/Vanault-les-Dames\" target=\"_other\">http://dbpedia.org/resource/Vanault-les-Dames</a></td></tr><tr class=odd><td class=val><a href=\"http://dbpedia.org/resource/Courbevoie\" target=\"_other\">http://dbpedia.org/resource/Courbevoie</a></td></tr><tr class=even><td class=val><a href=\"http://dbpedia.org/resource/Lille\" target=\"_other\">http://dbpedia.org/resource/Lille</a></td></tr><tr class=odd><td class=val><a href=\"http://dbpedia.org/resource/Richelieu,_Indre-et-Loire\" target=\"_other\">http://dbpedia.org/resource/Richelieu,_Indre-et-Loire</a></td></tr><tr class=even><td class=val><a href=\"http://dbpedia.org/resource/Yerres\" target=\"_other\">http://dbpedia.org/resource/Yerres</a></td></tr><tr class=odd><td class=val><a href=\"http://dbpedia.org/resource/Troyes\" target=\"_other\">http://dbpedia.org/resource/Troyes</a></td></tr></table><div class=\"tinfo\">Total: 9, Shown: 9</div></div>"
      ]
     },
     "metadata": {},
     "output_type": "display_data"
    }
   ],
   "source": [
    "select ?cid\n",
    "  where {\n",
    "  ?mayor dbo:birthPlace dbr:Paris.\n",
    "  ?cid dbo:mayor ?mayor}"
   ]
  },
  {
   "cell_type": "markdown",
   "metadata": {},
   "source": [
    "# Exercício 5\n",
    "## Liste todas as plantas que têm flores"
   ]
  },
  {
   "cell_type": "code",
   "execution_count": 7,
   "metadata": {},
   "outputs": [
    {
     "data": {
      "text/html": [
       "<div class=\"krn-spql\"><table><tr class=hdr><th>planta</th></tr><tr class=odd><td class=val><a href=\"http://dbpedia.org/resource/Begonia\" target=\"_other\">http://dbpedia.org/resource/Begonia</a></td></tr><tr class=even><td class=val><a href=\"http://dbpedia.org/resource/Bulb\" target=\"_other\">http://dbpedia.org/resource/Bulb</a></td></tr><tr class=odd><td class=val><a href=\"http://dbpedia.org/resource/Erythronium\" target=\"_other\">http://dbpedia.org/resource/Erythronium</a></td></tr><tr class=even><td class=val><a href=\"http://dbpedia.org/resource/Erythronium_'Pagoda'\" target=\"_other\">http://dbpedia.org/resource/Erythronium_'Pagoda'</a></td></tr><tr class=odd><td class=val><a href=\"http://dbpedia.org/resource/Eschscholzia_californica\" target=\"_other\">http://dbpedia.org/resource/Eschscholzia_californica</a></td></tr><tr class=even><td class=val><a href=\"http://dbpedia.org/resource/Galanthus\" target=\"_other\">http://dbpedia.org/resource/Galanthus</a></td></tr><tr class=odd><td class=val><a href=\"http://dbpedia.org/resource/Geranium\" target=\"_other\">http://dbpedia.org/resource/Geranium</a></td></tr><tr class=even><td class=val><a href=\"http://dbpedia.org/resource/Geranium_cinereum\" target=\"_other\">http://dbpedia.org/resource/Geranium_cinereum</a></td></tr><tr class=odd><td class=val><a href=\"http://dbpedia.org/resource/Helianthus_annuus\" target=\"_other\">http://dbpedia.org/resource/Helianthus_annuus</a></td></tr><tr class=even><td class=val><a href=\"http://dbpedia.org/resource/Rafflesia\" target=\"_other\">http://dbpedia.org/resource/Rafflesia</a></td></tr><tr class=odd><td class=val><a href=\"http://dbpedia.org/resource/Saffron\" target=\"_other\">http://dbpedia.org/resource/Saffron</a></td></tr><tr class=even><td class=val><a href=\"http://dbpedia.org/resource/Tropaeolum\" target=\"_other\">http://dbpedia.org/resource/Tropaeolum</a></td></tr><tr class=odd><td class=val><a href=\"http://dbpedia.org/resource/Blue_rose\" target=\"_other\">http://dbpedia.org/resource/Blue_rose</a></td></tr><tr class=even><td class=val><a href=\"http://dbpedia.org/resource/Tulip\" target=\"_other\">http://dbpedia.org/resource/Tulip</a></td></tr><tr class=odd><td class=val><a href=\"http://dbpedia.org/resource/Bluebonnet_(plant)\" target=\"_other\">http://dbpedia.org/resource/Bluebonnet_(plant)</a></td></tr><tr class=even><td class=val><a href=\"http://dbpedia.org/resource/Hydrangea_radiata\" target=\"_other\">http://dbpedia.org/resource/Hydrangea_radiata</a></td></tr><tr class=odd><td class=val><a href=\"http://dbpedia.org/resource/Lycoris_radiata\" target=\"_other\">http://dbpedia.org/resource/Lycoris_radiata</a></td></tr><tr class=even><td class=val><a href=\"http://dbpedia.org/resource/Primula_veris\" target=\"_other\">http://dbpedia.org/resource/Primula_veris</a></td></tr><tr class=odd><td class=val><a href=\"http://dbpedia.org/resource/Salvia\" target=\"_other\">http://dbpedia.org/resource/Salvia</a></td></tr><tr class=even><td class=val><a href=\"http://dbpedia.org/resource/Aubrieta\" target=\"_other\">http://dbpedia.org/resource/Aubrieta</a></td></tr></table><div class=\"tinfo\">Total: 20, Shown: 20</div></div>"
      ]
     },
     "metadata": {},
     "output_type": "display_data"
    }
   ],
   "source": [
    "select ?planta\n",
    "  where {?planta dct:subject dbc:Flowers}\n",
    "  limit 20"
   ]
  },
  {
   "cell_type": "markdown",
   "metadata": {},
   "source": [
    "# MeSH SPARQL endpoint\n",
    "## Explore o endpoint em: http://id.nlm.nih.gov/mesh"
   ]
  },
  {
   "cell_type": "code",
   "execution_count": 4,
   "metadata": {},
   "outputs": [
    {
     "data": {
      "text/html": [
       "<div class=\"krn-spql\"><div class=\"magic\">Endpoint set to: http://id.nlm.nih.gov/mesh/sparql</div><div class=\"magic\">Display: table</div><div class=\"magic\">Result maximum size: unlimited</div></div>"
      ],
      "text/plain": [
       "Endpoint set to: http://id.nlm.nih.gov/mesh/sparql\n",
       "Display: table\n",
       "Result maximum size: unlimited\n"
      ]
     },
     "metadata": {},
     "output_type": "display_data"
    }
   ],
   "source": [
    "%endpoint http://id.nlm.nih.gov/mesh/sparql\n",
    "%display table\n",
    "%show all"
   ]
  },
  {
   "cell_type": "markdown",
   "metadata": {},
   "source": [
    "# Exemplo\n",
    "## Ações farmacológicas"
   ]
  },
  {
   "cell_type": "code",
   "execution_count": 5,
   "metadata": {},
   "outputs": [
    {
     "data": {
      "text/html": [
       "<div class=\"krn-spql\"><table><tr class=hdr><th>pa</th>\n",
       "<th>paLabel</th></tr><tr class=odd><td class=val><a href=\"http://id.nlm.nih.gov/mesh/D000892\" target=\"_other\">http://id.nlm.nih.gov/mesh/D000892</a></td>\n",
       "<td class=val>Anti-Infective Agents, Urinary</td></tr><tr class=even><td class=val><a href=\"http://id.nlm.nih.gov/mesh/D000900\" target=\"_other\">http://id.nlm.nih.gov/mesh/D000900</a></td>\n",
       "<td class=val>Anti-Bacterial Agents</td></tr><tr class=odd><td class=val><a href=\"http://id.nlm.nih.gov/mesh/D059005\" target=\"_other\">http://id.nlm.nih.gov/mesh/D059005</a></td>\n",
       "<td class=val>Topoisomerase II Inhibitors</td></tr><tr class=even><td class=val><a href=\"http://id.nlm.nih.gov/mesh/D065609\" target=\"_other\">http://id.nlm.nih.gov/mesh/D065609</a></td>\n",
       "<td class=val>Cytochrome P-450 CYP1A2 Inhibitors</td></tr></table><div class=\"tinfo\">Total: 4, Shown: 4</div></div>"
      ]
     },
     "metadata": {},
     "output_type": "display_data"
    }
   ],
   "source": [
    "PREFIX rdf: <http://www.w3.org/1999/02/22-rdf-syntax-ns#>\n",
    "PREFIX rdfs: <http://www.w3.org/2000/01/rdf-schema#>\n",
    "PREFIX xsd: <http://www.w3.org/2001/XMLSchema#>\n",
    "PREFIX owl: <http://www.w3.org/2002/07/owl#>\n",
    "PREFIX meshv: <http://id.nlm.nih.gov/mesh/vocab#>\n",
    "PREFIX mesh: <http://id.nlm.nih.gov/mesh/>\n",
    "PREFIX mesh2015: <http://id.nlm.nih.gov/mesh/2015/>\n",
    "PREFIX mesh2016: <http://id.nlm.nih.gov/mesh/2016/>\n",
    "PREFIX mesh2017: <http://id.nlm.nih.gov/mesh/2017/>\n",
    "PREFIX mesh2018: <http://id.nlm.nih.gov/mesh/2018/>\n",
    "\n",
    "SELECT * \n",
    "WHERE {\n",
    "  mesh:D015242 meshv:pharmacologicalAction ?pa .\n",
    "  ?pa rdfs:label ?paLabel .\n",
    "}"
   ]
  },
  {
   "cell_type": "markdown",
   "metadata": {},
   "source": [
    "# Exercício 6\n",
    "## Encontre todos os conceitos que recebem o rótulo Myocardial Infarction"
   ]
  },
  {
   "cell_type": "markdown",
   "metadata": {},
   "source": []
  }
 ],
 "metadata": {
  "kernelspec": {
   "display_name": "SPARQL",
   "language": "sparql",
   "name": "sparql"
  },
  "language_info": {
   "codemirror_mode": {
    "name": "sparql"
   },
   "mimetype": "application/sparql-query",
   "name": "sparql",
   "pygments_lexer": "sparql-nb"
  }
 },
 "nbformat": 4,
 "nbformat_minor": 2
}
