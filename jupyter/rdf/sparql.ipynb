{
 "cells": [
  {
   "cell_type": "markdown",
   "metadata": {},
   "source": [
    "# Endpoints\n",
    "## MeSH: http://id.nlm.nih.gov/mesh/sparql\n",
    "## DBpedia: http://dbpedia.org/sparql"
   ]
  },
  {
   "cell_type": "markdown",
   "metadata": {},
   "source": [
    "# Consultas"
   ]
  },
  {
   "cell_type": "markdown",
   "metadata": {},
   "source": [
    "## C1. Eu como doutor sei que o componente 'Pseudoephedrine' (componente predominante na maioria de descongestionantes) incrementa ou agrava a pressão alta. Como posso corroborar este conhecimento.\n",
    "## Rpta: Fazendo uso dos 'Headings' que proporciona o NLH (National Institute of Health), se pode crear um arquivo .ttl, onde se especificaria que o 'Pseudoephedrine' afecta na Hipertensão ou pressão sanguínea alta.\n",
    "comando: ./apache-jena-3.9.0/bin/arq --data c1.ttl --query c1.rq"
   ]
  },
  {
   "cell_type": "markdown",
   "metadata": {},
   "source": [
    "## C2. Com respeito à dose de DICLORATO DE CETIRIZINA, esta é muito importante quando o medicamento é receitado a pessoas que sofrem de Insuficiência renal. Porém, se prosseguiu a crear um novo arquivo .ttl indicando as respectivas doses consoante a sua gravidade.\n",
    "comando: ./apache-jena-3.9.0/bin/arq --data c2.ttl --query c2.rq"
   ]
  },
  {
   "cell_type": "markdown",
   "metadata": {},
   "source": [
    "## C3. Obter informação sobre 'cetirizine'."
   ]
  },
  {
   "cell_type": "code",
   "execution_count": null,
   "metadata": {},
   "outputs": [],
   "source": [
    "%endpoint http://dbpedia.org/sparql\n",
    "%display table\n",
    "%show all\n",
    "\n",
    "SELECT ?label ?legalUs ?proteinBound\n",
    "WHERE\n",
    "{\n",
    "dbr:Cetirizine rdfs:label ?label .\n",
    "dbr:Cetirizine dbp:legalUs ?legalUs .\n",
    "dbr:Cetirizine dbp:proteinBound ?proteinBound .\n",
    "}\n",
    "LIMIT 20\n",
    "#se deduce que nao precisa de prescripção médica"
   ]
  },
  {
   "cell_type": "markdown",
   "metadata": {},
   "source": [
    "## C4. Obter os recursos que estajam relacionados com Insuficiência Renal."
   ]
  },
  {
   "cell_type": "code",
   "execution_count": null,
   "metadata": {},
   "outputs": [],
   "source": [
    "%endpoint http://dbpedia.org/sparql\n",
    "%display table\n",
    "%show all\n",
    "\n",
    "SELECT ?d ?dLabel\n",
    "WHERE\n",
    "{\n",
    "?d rdfs:label ?dLabel .\n",
    "FILTER(REGEX(?dLabel, \"Kidney.*\"@en, \"i\")) .\n",
    "}\n",
    "LIMIT 20"
   ]
  }
 ],
 "metadata": {
  "kernelspec": {
   "display_name": "SPARQL",
   "language": "sparql",
   "name": "sparql"
  },
  "language_info": {
   "codemirror_mode": {
    "name": "sparql"
   },
   "mimetype": "application/sparql-query",
   "name": "sparql",
   "pygments_lexer": "sparql-nb"
  },
  "toc": {
   "base_numbering": 1,
   "nav_menu": {},
   "number_sections": false,
   "sideBar": false,
   "skip_h1_title": false,
   "title_cell": "Table of Contents",
   "title_sidebar": "Contents",
   "toc_cell": false,
   "toc_position": {},
   "toc_section_display": false,
   "toc_window_display": false
  }
 },
 "nbformat": 4,
 "nbformat_minor": 2
}
