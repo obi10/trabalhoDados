{
 "cells": [
  {
   "cell_type": "markdown",
   "metadata": {},
   "source": [
    "# MeSH SPARQL endpoint\n",
    "## http://id.nlm.nih.gov/mesh"
   ]
  },
  {
   "cell_type": "code",
   "execution_count": null,
   "metadata": {},
   "outputs": [],
   "source": [
    "%endpoint http://id.nlm.nih.gov/mesh/sparql\n",
    "%display table\n",
    "%show all"
   ]
  },
  {
   "cell_type": "markdown",
   "metadata": {},
   "source": [
    "# Consultas\n",
    "\n",
    "## C1. Eu como doutor sei que o componente 'Pseudoephedrine' (componente predominante na maioria de descongestionantes) incrementa ou agrava a pressão alta. Como posso corroborar este conhecimento.\n",
    "\n",
    "## Rpta: Fazendo uso dos 'Headings' que proporciona o NLH (National Institute of Health), se pode crear um arquivo .ttl, onde se especificaria que o 'Pseudoephedrine' afecta na Hipertensão ou pressão sanguínea alta.\n",
    "comando: ./apache-jena-3.9.0/bin/arq --data c1.ttl --query c1.rq\n",
    "\n",
    "## C2. Com respeito à dose de DICLORATO DE CETIRIZINA, esta é muito importante quando o medicamento é receitado a pessoas que sofrem de Insuficiência renal. Porém, se prosseguiu a crear um novo arquivo .ttl indicando as respectivas doses consoante a sua gravidade.\n",
    "comando: ./apache-jena-3.9.0/bin/arq --data c2.ttl --query c2.rq"
   ]
  }
 ],
 "metadata": {
  "kernelspec": {
   "display_name": "SPARQL",
   "language": "sparql",
   "name": "sparql"
  },
  "language_info": {
   "codemirror_mode": {
    "name": "sparql"
   },
   "mimetype": "application/sparql-query",
   "name": "sparql",
   "pygments_lexer": "sparql-nb"
  },
  "toc": {
   "base_numbering": 1,
   "nav_menu": {},
   "number_sections": false,
   "sideBar": false,
   "skip_h1_title": false,
   "title_cell": "Table of Contents",
   "title_sidebar": "Contents",
   "toc_cell": false,
   "toc_position": {},
   "toc_section_display": false,
   "toc_window_display": false
  }
 },
 "nbformat": 4,
 "nbformat_minor": 2
}
