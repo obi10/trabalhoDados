{
 "cells": [
  {
   "cell_type": "markdown",
   "metadata": {},
   "source": [
    "# MeSH SPARQL endpoint\n",
    "## Explore o endpoint em: http://id.nlm.nih.gov/mesh"
   ]
  },
  {
   "cell_type": "code",
   "execution_count": 1,
   "metadata": {},
   "outputs": [
    {
     "data": {
      "text/html": [
       "<div class=\"krn-spql\"><div class=\"magic\">Endpoint set to: http://id.nlm.nih.gov/mesh/sparql</div><div class=\"magic\">Display: table</div><div class=\"magic\">Result maximum size: unlimited</div></div>"
      ],
      "text/plain": [
       "Endpoint set to: http://id.nlm.nih.gov/mesh/sparql\n",
       "Display: table\n",
       "Result maximum size: unlimited\n"
      ]
     },
     "metadata": {},
     "output_type": "display_data"
    }
   ],
   "source": [
    "%endpoint http://id.nlm.nih.gov/mesh/sparql\n",
    "%display table\n",
    "%show all"
   ]
  },
  {
   "cell_type": "markdown",
   "metadata": {},
   "source": [
    "# C1. Eu como doutor sei que o componente 'Pseudoephedrine' incrementa ou agrava a pressao alta. Como posso comprobar que o medicamento escolhido é o adequado."
   ]
  },
  {
   "cell_type": "markdown",
   "metadata": {},
   "source": [
    "## 1. Verifico se o 'Pseudoephedrine' produce um efeito adverso na pressão sanguínea alta."
   ]
  },
  {
   "cell_type": "code",
   "execution_count": 7,
   "metadata": {},
   "outputs": [
    {
     "data": {
      "text/html": [
       "<div class=\"krn-spql\"><table><tr class=hdr><th>qLabel</th>\n",
       "<th>predLabel</th>\n",
       "<th>labelLabel</th></tr><tr class=odd><td class=val>blood</td>\n",
       "<td class=val>treeNumber</td>\n",
       "<td class=val>Y01.010</td></tr><tr class=even><td class=val>cerebrospinal fluid</td>\n",
       "<td class=val>treeNumber</td>\n",
       "<td class=val>Y01.020</td></tr><tr class=odd><td class=val>urine</td>\n",
       "<td class=val>treeNumber</td>\n",
       "<td class=val>Y01.040</td></tr><tr class=even><td class=val>embryology</td>\n",
       "<td class=val>treeNumber</td>\n",
       "<td class=val>Y02.030</td></tr><tr class=odd><td class=val>pathology</td>\n",
       "<td class=val>treeNumber</td>\n",
       "<td class=val>Y02.050</td></tr><tr class=even><td class=val>diagnosis</td>\n",
       "<td class=val>treeNumber</td>\n",
       "<td class=val>Y04</td></tr><tr class=odd><td class=val>diagnostic imaging</td>\n",
       "<td class=val>treeNumber</td>\n",
       "<td class=val>Y04.010</td></tr><tr class=even><td class=val>etiology</td>\n",
       "<td class=val>treeNumber</td>\n",
       "<td class=val>Y05</td></tr><tr class=odd><td class=val>chemically induced</td>\n",
       "<td class=val>treeNumber</td>\n",
       "<td class=val>Y05.010</td></tr><tr class=even><td class=val>complications</td>\n",
       "<td class=val>treeNumber</td>\n",
       "<td class=val>Y05.020</td></tr><tr class=odd><td class=val>congenital</td>\n",
       "<td class=val>treeNumber</td>\n",
       "<td class=val>Y05.030</td></tr><tr class=even><td class=val>embryology</td>\n",
       "<td class=val>treeNumber</td>\n",
       "<td class=val>Y05.040</td></tr><tr class=odd><td class=val>genetics</td>\n",
       "<td class=val>treeNumber</td>\n",
       "<td class=val>Y05.050</td></tr><tr class=even><td class=val>immunology</td>\n",
       "<td class=val>treeNumber</td>\n",
       "<td class=val>Y05.060</td></tr><tr class=odd><td class=val>microbiology</td>\n",
       "<td class=val>treeNumber</td>\n",
       "<td class=val>Y05.070</td></tr><tr class=even><td class=val>virology</td>\n",
       "<td class=val>treeNumber</td>\n",
       "<td class=val>Y05.070.010</td></tr><tr class=odd><td class=val>parasitology</td>\n",
       "<td class=val>treeNumber</td>\n",
       "<td class=val>Y05.080</td></tr><tr class=even><td class=val>economics</td>\n",
       "<td class=val>treeNumber</td>\n",
       "<td class=val>Y06.010</td></tr><tr class=odd><td class=val>genetics</td>\n",
       "<td class=val>treeNumber</td>\n",
       "<td class=val>Y08.010</td></tr><tr class=even><td class=val>immunology</td>\n",
       "<td class=val>treeNumber</td>\n",
       "<td class=val>Y08.030</td></tr><tr class=odd><td class=val>metabolism</td>\n",
       "<td class=val>treeNumber</td>\n",
       "<td class=val>Y08.040</td></tr><tr class=even><td class=val>blood</td>\n",
       "<td class=val>treeNumber</td>\n",
       "<td class=val>Y08.040.020</td></tr><tr class=odd><td class=val>cerebrospinal fluid</td>\n",
       "<td class=val>treeNumber</td>\n",
       "<td class=val>Y08.040.030</td></tr><tr class=even><td class=val>enzymology</td>\n",
       "<td class=val>treeNumber</td>\n",
       "<td class=val>Y08.040.050</td></tr><tr class=odd><td class=val>urine</td>\n",
       "<td class=val>treeNumber</td>\n",
       "<td class=val>Y08.040.070</td></tr><tr class=even><td class=val>physiopathology</td>\n",
       "<td class=val>treeNumber</td>\n",
       "<td class=val>Y08.050</td></tr><tr class=odd><td class=val>epidemiology</td>\n",
       "<td class=val>treeNumber</td>\n",
       "<td class=val>Y09.010</td></tr><tr class=even><td class=val>ethnology</td>\n",
       "<td class=val>treeNumber</td>\n",
       "<td class=val>Y09.010.010</td></tr><tr class=odd><td class=val>mortality</td>\n",
       "<td class=val>treeNumber</td>\n",
       "<td class=val>Y09.010.020</td></tr><tr class=even><td class=val>therapy</td>\n",
       "<td class=val>treeNumber</td>\n",
       "<td class=val>Y11</td></tr><tr class=odd><td class=val>diet therapy</td>\n",
       "<td class=val>treeNumber</td>\n",
       "<td class=val>Y11.010</td></tr><tr class=even><td class=val>drug therapy</td>\n",
       "<td class=val>treeNumber</td>\n",
       "<td class=val>Y11.020</td></tr><tr class=odd><td class=val>nursing</td>\n",
       "<td class=val>treeNumber</td>\n",
       "<td class=val>Y11.030</td></tr><tr class=even><td class=val>prevention &amp; control</td>\n",
       "<td class=val>treeNumber</td>\n",
       "<td class=val>Y11.040</td></tr><tr class=odd><td class=val>radiotherapy</td>\n",
       "<td class=val>treeNumber</td>\n",
       "<td class=val>Y11.050</td></tr><tr class=even><td class=val>rehabilitation</td>\n",
       "<td class=val>treeNumber</td>\n",
       "<td class=val>Y11.060</td></tr><tr class=odd><td class=val>surgery</td>\n",
       "<td class=val>treeNumber</td>\n",
       "<td class=val>Y11.070</td></tr><tr class=even><td class=val>classification</td>\n",
       "<td class=val>treeNumber</td>\n",
       "<td class=val>Y19</td></tr><tr class=odd><td class=val>history</td>\n",
       "<td class=val>treeNumber</td>\n",
       "<td class=val>Y27</td></tr><tr class=even><td class=val>psychology</td>\n",
       "<td class=val>treeNumber</td>\n",
       "<td class=val>Y37</td></tr><tr class=odd><td class=val>veterinary</td>\n",
       "<td class=val>treeNumber</td>\n",
       "<td class=val>Y41</td></tr><tr class=even><td class=val>blood</td>\n",
       "<td class=val>broaderQualifier</td>\n",
       "<td class=val>analysis</td></tr><tr class=odd><td class=val>cerebrospinal fluid</td>\n",
       "<td class=val>broaderQualifier</td>\n",
       "<td class=val>analysis</td></tr><tr class=even><td class=val>urine</td>\n",
       "<td class=val>broaderQualifier</td>\n",
       "<td class=val>analysis</td></tr><tr class=odd><td class=val>embryology</td>\n",
       "<td class=val>broaderQualifier</td>\n",
       "<td class=val>anatomy &amp; histology</td></tr><tr class=even><td class=val>pathology</td>\n",
       "<td class=val>broaderQualifier</td>\n",
       "<td class=val>anatomy &amp; histology</td></tr><tr class=odd><td class=val>diagnostic imaging</td>\n",
       "<td class=val>broaderQualifier</td>\n",
       "<td class=val>diagnosis</td></tr><tr class=even><td class=val>chemically induced</td>\n",
       "<td class=val>broaderQualifier</td>\n",
       "<td class=val>etiology</td></tr><tr class=odd><td class=val>complications</td>\n",
       "<td class=val>broaderQualifier</td>\n",
       "<td class=val>etiology</td></tr><tr class=even><td class=val>congenital</td>\n",
       "<td class=val>broaderQualifier</td>\n",
       "<td class=val>etiology</td></tr></table><div class=\"tinfo\">Total: 50, Shown: 50</div></div>"
      ]
     },
     "metadata": {},
     "output_type": "display_data"
    }
   ],
   "source": [
    "PREFIX rdf: <http://www.w3.org/1999/02/22-rdf-syntax-ns#>\n",
    "PREFIX rdfs: <http://www.w3.org/2000/01/rdf-schema#>\n",
    "PREFIX xsd: <http://www.w3.org/2001/XMLSchema#>\n",
    "PREFIX owl: <http://www.w3.org/2002/07/owl#>\n",
    "PREFIX meshv: <http://id.nlm.nih.gov/mesh/vocab#>\n",
    "PREFIX mesh: <http://id.nlm.nih.gov/mesh/>\n",
    "PREFIX mesh2015: <http://id.nlm.nih.gov/mesh/2015/>\n",
    "PREFIX mesh2016: <http://id.nlm.nih.gov/mesh/2016/>\n",
    "PREFIX mesh2017: <http://id.nlm.nih.gov/mesh/2017/>\n",
    "\n",
    "SELECT distinct ?qLabel ?predLabel ?labelLabel\n",
    "\n",
    "WHERE {\n",
    "  mesh:D006973 meshv:allowableQualifier ?q .\n",
    "  #?d meshv:active 1 .\n",
    "  #?q rdfs:label ?qLabel . \n",
    "  ?q ?pred ?label .\n",
    "  ?q rdfs:label ?qLabel .\n",
    "  ?pred rdfs:label ?predLabel .\n",
    "  ?label rdfs:label ?labelLabel .\n",
    "  #FILTER(REGEX(?label,\"blood pressure|hypertension\",\"i\")) #i: case-insensitive\n",
    "}\n",
    "\n",
    "LIMIT 50"
   ]
  },
  {
   "cell_type": "markdown",
   "metadata": {},
   "source": [
    "## 2. Busca dos medicamentos "
   ]
  },
  {
   "cell_type": "code",
   "execution_count": 18,
   "metadata": {},
   "outputs": [
    {
     "data": {
      "text/html": [
       "<div class=\"krn-spql\"><table><tr class=hdr><th>d</th>\n",
       "<th>dLabel</th></tr></table><div class=\"tinfo\">Total: 0, Shown: 0</div></div>"
      ]
     },
     "metadata": {},
     "output_type": "display_data"
    }
   ],
   "source": [
    "PREFIX rdf: <http://www.w3.org/1999/02/22-rdf-syntax-ns#>\n",
    "PREFIX rdfs: <http://www.w3.org/2000/01/rdf-schema#>\n",
    "PREFIX xsd: <http://www.w3.org/2001/XMLSchema#>\n",
    "PREFIX owl: <http://www.w3.org/2002/07/owl#>\n",
    "PREFIX meshv: <http://id.nlm.nih.gov/mesh/vocab#>\n",
    "PREFIX mesh: <http://id.nlm.nih.gov/mesh/>\n",
    "PREFIX mesh2015: <http://id.nlm.nih.gov/mesh/2015/>\n",
    "PREFIX mesh2016: <http://id.nlm.nih.gov/mesh/2016/>\n",
    "PREFIX mesh2017: <http://id.nlm.nih.gov/mesh/2017/>\n",
    "\n",
    "SELECT ?d ?dName ?c ?cName\n",
    "FROM <http://id.nlm.nih.gov/mesh>\n",
    "\n",
    "WHERE {\n",
    "\n",
    "  ?d a meshv:Descriptor .\n",
    "  ?d meshv:active 1 .\n",
    "  ?d meshv:concept ?c .\n",
    "  ?d rdfs:label ?dName .\n",
    "  ?c rdfs:label \"adverse effects\"@en .\n",
    "  FILTER(REGEX(?dName,\"infection\",\"i\") || REGEX(?cName,\"infection\",\"i\"))\n",
    "\n",
    "}\n",
    "ORDER BY ?d"
   ]
  }
 ],
 "metadata": {
  "kernelspec": {
   "display_name": "SPARQL",
   "language": "sparql",
   "name": "sparql"
  },
  "language_info": {
   "codemirror_mode": {
    "name": "sparql"
   },
   "mimetype": "application/sparql-query",
   "name": "sparql",
   "pygments_lexer": "sparql-nb"
  },
  "toc": {
   "base_numbering": 1,
   "nav_menu": {},
   "number_sections": false,
   "sideBar": false,
   "skip_h1_title": false,
   "title_cell": "Table of Contents",
   "title_sidebar": "Contents",
   "toc_cell": false,
   "toc_position": {},
   "toc_section_display": false,
   "toc_window_display": false
  }
 },
 "nbformat": 4,
 "nbformat_minor": 2
}
