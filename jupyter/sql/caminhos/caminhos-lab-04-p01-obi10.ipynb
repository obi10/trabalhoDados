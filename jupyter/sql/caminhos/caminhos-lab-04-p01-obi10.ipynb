{
 "cells": [
  {
   "cell_type": "code",
   "execution_count": 7,
   "metadata": {},
   "outputs": [],
   "source": [
    "%defaultDatasource jdbc:h2:file:../../data/caminhos/caminhos"
   ]
  },
  {
   "cell_type": "markdown",
   "metadata": {},
   "source": [
    "# Estradas e Trajetos\n",
    "\n",
    "Considere o diagrama abaixo representa graficamente um modelo relacional de tabelas que controlam cidades, estradas e trajetos entre cidades. A seguir a descrição o papel de cada tabela:\n",
    "* _Cidades_: mantém um cadastro de cidades.\n",
    "* _Estradas_: registra estradas que ligam uma cidade (cidade_origem) a outra (cidade_destino), bem como sua quilometragem.\n",
    "* _Trajeto_: cada registro da tabela Trajeto identifica um trajeto, que consiste em uma sequência ordenada de estradas que ligam duas cidades (cidade_origem e cidade_destino), por exemplo, um trajeto entre Salvador e Curitiba, pode envolver uma sequência de estradas: Salvador-Belo Horizonte, Belo Horizonte-São Paulo e São Paulo-Curitiba. Um Trajeto agrega um conjunto de Segmentos.\n",
    "* _Segmento_: associa estradas a trajetos. O campo ordem é um campo numérico sequencial (iniciado de 1 para cada trajeto) usado para ordenar os segmentos (estradas) dentro de um trajeto.\n",
    "\n",
    "![UML](../../img/caminhos/uml-estradas.png) ![Relacional](../../img/caminhos/relacional-estradas.png)\n",
    "\n",
    "## Exercício 1\n",
    "\n",
    "Escreva uma sentença em SQL que calcule a quilometragem total de cada Trajeto."
   ]
  },
  {
   "cell_type": "code",
   "execution_count": 8,
   "metadata": {},
   "outputs": [
    {
     "data": {
      "application/vnd.jupyter.widget-view+json": {
       "model_id": "401ce2f0-a718-4af7-8e77-0c3f2576705e",
       "version_major": 2,
       "version_minor": 0
      },
      "method": "display_data"
     },
     "metadata": {},
     "output_type": "display_data"
    },
    {
     "data": {
      "application/vnd.jupyter.widget-view+json": {
       "model_id": "d42cea85-e4d7-41cd-918e-c81ebdc7bba7",
       "version_major": 2,
       "version_minor": 0
      },
      "method": "display_data"
     },
     "metadata": {},
     "output_type": "display_data"
    },
    {
     "data": {
      "application/vnd.jupyter.widget-view+json": {
       "model_id": "4263f10a-12d1-4b80-b522-ec64d38438db",
       "version_major": 2,
       "version_minor": 0
      },
      "method": "display_data"
     },
     "metadata": {},
     "output_type": "display_data"
    },
    {
     "data": {
      "application/vnd.jupyter.widget-view+json": {
       "model_id": "40705ec5-0df9-41e1-8cb4-a5cac8fe7d54",
       "version_major": 2,
       "version_minor": 0
      },
      "method": "display_data"
     },
     "metadata": {},
     "output_type": "display_data"
    }
   ],
   "source": [
    "DROP TABLE IF EXISTS Cidade;\n",
    "DROP TABLE IF EXISTS Estrada;\n",
    "DROP TABLE IF EXISTS Trajeto;\n",
    "DROP TABLE IF EXISTS Segmento;\n",
    "\n",
    "\n",
    "CREATE TABLE Cidade (\n",
    "  cidadeid VARCHAR(5) NOT NULL ,\n",
    "  nome VARCHAR(100) ,\n",
    "  PRIMARY KEY (cidadeid) );\n",
    "\n",
    "INSERT INTO Cidade VALUES ('SSA', 'Salvador');\n",
    "INSERT INTO Cidade VALUES ('SP',  'Sao Paulo');\n",
    "INSERT INTO Cidade VALUES ('RJ',  'Rio de Janeiro');\n",
    "INSERT INTO Cidade VALUES ('FLO', 'Florianopolis');\n",
    "INSERT INTO Cidade VALUES ('CUR', 'Curitiba');\n",
    "\n",
    "CREATE TABLE Estrada (\n",
    "  estradaid VARCHAR(5) NOT NULL ,\n",
    "  nome VARCHAR(100) ,\n",
    "  cidade_origem VARCHAR(5) NOT NULL ,\n",
    "  cidade_destino VARCHAR(5) NOT NULL ,\n",
    "  extensao_km INT ,\n",
    "  PRIMARY KEY (estradaid) ,\n",
    "  FOREIGN KEY (cidade_origem )\n",
    "    REFERENCES Cidade (cidadeid )\n",
    "    ON DELETE NO ACTION\n",
    "    ON UPDATE NO ACTION,\n",
    "  FOREIGN KEY (cidade_destino )\n",
    "    REFERENCES Cidade (cidadeid )\n",
    "    ON DELETE NO ACTION\n",
    "    ON UPDATE NO ACTION);\n",
    "\n",
    "INSERT INTO Estrada VALUES ('4545', 'Estrada 4545', 'SSA', 'RJ', 1800);\n",
    "INSERT INTO Estrada VALUES ('2835', 'Estrada 2835', 'RJ', 'SP', 400);\n",
    "INSERT INTO Estrada VALUES ('1012', 'Estrada 1012', 'SP', 'FLO', 600);\n",
    "INSERT INTO Estrada VALUES ('1212', 'Estrada 1212', 'SP', 'CUR', 800);\n",
    "INSERT INTO Estrada VALUES ('6032', 'Estrada 6032', 'FLO', 'CUR', 200);\n",
    "\n",
    "CREATE TABLE Trajeto (\n",
    "  trajetoid VARCHAR(5) NOT NULL ,\n",
    "  cidade_origem VARCHAR(5) NOT NULL ,\n",
    "  cidade_destino VARCHAR(5) NOT NULL ,\n",
    "  PRIMARY KEY (trajetoid) ,\n",
    "  FOREIGN KEY (cidade_origem )\n",
    "    REFERENCES Cidade (cidadeid )\n",
    "    ON DELETE NO ACTION\n",
    "    ON UPDATE NO ACTION,\n",
    "  FOREIGN KEY (cidade_destino )\n",
    "    REFERENCES Cidade (cidadeid )\n",
    "    ON DELETE NO ACTION\n",
    "    ON UPDATE NO ACTION);\n",
    "\n",
    "INSERT INTO Trajeto VALUES ('TJ001', 'SSA', 'SP');\n",
    "INSERT INTO Trajeto VALUES ('TJ002', 'SSA', 'FLO');\n",
    "INSERT INTO Trajeto VALUES ('TJ003', 'SP', 'CUR');\n",
    "INSERT INTO Trajeto VALUES ('TJ004', 'SP', 'CUR');\n",
    "INSERT INTO Trajeto VALUES ('TJ005', 'RJ', 'CUR');\n",
    "\n",
    "CREATE TABLE Segmento (\n",
    "  trajetoid VARCHAR(5) NOT NULL ,\n",
    "  estradaid VARCHAR(5) NOT NULL ,\n",
    "  ordem INT ,\n",
    "  PRIMARY KEY (trajetoid, estradaid) ,\n",
    "  FOREIGN KEY (estradaid )\n",
    "    REFERENCES Estrada (estradaid )\n",
    "    ON DELETE NO ACTION\n",
    "    ON UPDATE NO ACTION,\n",
    "  FOREIGN KEY (trajetoid )\n",
    "    REFERENCES Trajeto (trajetoid )\n",
    "    ON DELETE NO ACTION\n",
    "    ON UPDATE NO ACTION);\n",
    "\n",
    "INSERT INTO Segmento VALUES ('TJ001', '4545', 1);\n",
    "INSERT INTO Segmento VALUES ('TJ001', '2835', 2);\n",
    "INSERT INTO Segmento VALUES ('TJ002', '4545', 1);\n",
    "INSERT INTO Segmento VALUES ('TJ002', '2835', 2);\n",
    "INSERT INTO Segmento VALUES ('TJ002', '1012', 3);\n",
    "INSERT INTO Segmento VALUES ('TJ003', '1212', 1);\n",
    "INSERT INTO Segmento VALUES ('TJ004', '1012', 1);\n",
    "INSERT INTO Segmento VALUES ('TJ004', '6032', 2);\n",
    "INSERT INTO Segmento VALUES ('TJ005', '2835', 1);\n",
    "INSERT INTO Segmento VALUES ('TJ005', '1212', 2);\n",
    "\n",
    "SELECT * FROM Cidade;\n",
    "SELECT * FROM Estrada;\n",
    "SELECT * FROM Trajeto;\n",
    "SELECT * FROM Segmento;"
   ]
  },
  {
   "cell_type": "markdown",
   "metadata": {},
   "source": [
    "__Solucao - Exercício 1__"
   ]
  },
  {
   "cell_type": "code",
   "execution_count": 3,
   "metadata": {},
   "outputs": [
    {
     "data": {
      "application/vnd.jupyter.widget-view+json": {
       "model_id": "dd106edd-a8f5-430f-8591-7c6f05514f22",
       "version_major": 2,
       "version_minor": 0
      },
      "method": "display_data"
     },
     "metadata": {},
     "output_type": "display_data"
    }
   ],
   "source": [
    "--calculo da quilometragem total de cada Trajeto (se corrigiu as estradas dos trajetos TJ003, TJ004 e TJ005)\n",
    "SELECT S.trajetoid, SUM(E.extensao_km)\n",
    "FROM Segmento S, Estrada E\n",
    "WHERE S.estradaid = E.estradaid\n",
    "GROUP BY S.trajetoid"
   ]
  },
  {
   "cell_type": "markdown",
   "metadata": {},
   "source": [
    "# Cronograma de Tarefas\n",
    "\n",
    "Considere uma tabela contendo tarefas (Tasks) a ser executadas e a dependência entre elas (Dependency). Na dependência entre a Tarefa A e B é computado o tempo para que a Tarefa A se conclua e se inicie a Tarefa B."
   ]
  },
  {
   "cell_type": "code",
   "execution_count": 4,
   "metadata": {},
   "outputs": [
    {
     "data": {
      "application/vnd.jupyter.widget-view+json": {
       "model_id": "2c32e36d-023d-4915-a0d1-d713c13da739",
       "version_major": 2,
       "version_minor": 0
      },
      "method": "display_data"
     },
     "metadata": {},
     "output_type": "display_data"
    },
    {
     "data": {
      "application/vnd.jupyter.widget-view+json": {
       "model_id": "9671081a-3403-4828-b87b-1448168e9315",
       "version_major": 2,
       "version_minor": 0
      },
      "method": "display_data"
     },
     "metadata": {},
     "output_type": "display_data"
    }
   ],
   "source": [
    "DROP TABLE IF EXISTS Task;\n",
    "DROP TABLE IF EXISTS Dependency;\n",
    "\n",
    "CREATE TABLE Task (\n",
    "  id VARCHAR(30) NOT NULL,\n",
    "  name VARCHAR(200) NOT NULL,\n",
    "  PRIMARY KEY(id)\n",
    ") AS SELECT id, name\n",
    "     FROM CSVREAD('../../data/schedule/task.csv');\n",
    "\n",
    "SELECT * FROM Task;\n",
    "\n",
    "CREATE TABLE Dependency (\n",
    "  before VARCHAR(30) NOT NULL,\n",
    "  after VARCHAR(30) NOT NULL,\n",
    "  time INT NOT NULL,\n",
    "  PRIMARY KEY(before, after),\n",
    "  FOREIGN KEY(before)\n",
    "    REFERENCES Task(id)\n",
    "      ON DELETE NO ACTION\n",
    "      ON UPDATE NO ACTION,\n",
    "  FOREIGN KEY(after)\n",
    "    REFERENCES Task(id)\n",
    "      ON DELETE NO ACTION\n",
    "      ON UPDATE NO ACTION,\n",
    ") AS SELECT before, after, time\n",
    "     FROM CSVREAD('../../data/schedule/dependency.csv');\n",
    "\n",
    "SELECT * FROM Dependency;"
   ]
  },
  {
   "cell_type": "markdown",
   "metadata": {},
   "source": [
    "# Versão dos caminhos no Neo4J / Cypher\n",
    "\n",
    "Entre na sandbox do Cypher (https://neo4j.com/sandbox-v2/?ref=hcard#) e execute os comandos.\n",
    "\n",
    "## Criando um grafo de tarefas no Cypher\n",
    "```\n",
    "LOAD CSV WITH HEADERS FROM 'https://github.com/santanche/lab2learn/raw/master/data/schedule/task.csv' AS line\n",
    "CREATE (:Task {id: line.id, name: line.name})\n",
    "\n",
    "LOAD CSV WITH HEADERS FROM 'https://github.com/santanche/lab2learn/raw/master/data/schedule/dependency.csv' AS line\n",
    "MATCH (before:Task {id:line.before})\n",
    "MATCH (after:Task {id:line.after})\n",
    "CREATE (before)-[:Dependency {time:toInteger(line.time)}]->(after)\n",
    "\n",
    "MATCH (t:Task)\n",
    "RETURN t\n",
    "```\n",
    "\n",
    "## Caminho entre a tarefa Preparação e Fatura\n",
    "O * indica que é aceito um número variável de arestas entre os dois.\n",
    "```\n",
    "MATCH path=(:Task {id: \"Preparação\"})-[:Dependency*]->(:Task {id: \"Fatura\"})\n",
    "RETURN path\n",
    "```\n",
    "\n",
    "## Tamanho do caminho\n",
    "A função length() calcula o número de arestas.\n",
    "```\n",
    "MATCH path=(:Task {id: \"Preparação\"})-[:Dependency*]->(:Task {id: \"Fatura\"})\n",
    "RETURN length(path)\n",
    "```\n",
    "\n",
    "# Somando o tempo do caminho\n",
    "A cláusula UNWIND transforma o caminho em um conjunto de valores e a função sum() os soma.\n",
    "```\n",
    "MATCH path=(:Task {id: \"Preparação\"})-[d:Dependency*]->(:Task {id: \"Fatura\"})\n",
    "UNWIND d as p\n",
    "RETURN sum(p.time)\n",
    "```\n",
    "\n",
    "## Exercício 2\n",
    "Reproduza estas operação em SQL com Java (veja código Java de base no notebook associado."
   ]
  },
  {
   "cell_type": "markdown",
   "metadata": {},
   "source": [
    "__Solucao - Exercício 2__"
   ]
  },
  {
   "cell_type": "markdown",
   "metadata": {},
   "source": [
    "Solucao no path: ../../java\n",
    "Nome do projeto: Estradas (Executar no eclipse o arquivo Main.java)"
   ]
  }
 ],
 "metadata": {
  "kernelspec": {
   "display_name": "SQL",
   "language": "SQL",
   "name": "sql"
  },
  "language_info": {
   "codemirror_mode": "sql",
   "file_extension": ".sql",
   "mimetype": "",
   "name": "SQL",
   "nbconverter_exporter": "",
   "version": ""
  }
 },
 "nbformat": 4,
 "nbformat_minor": 2
}
