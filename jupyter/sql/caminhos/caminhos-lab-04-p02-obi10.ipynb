{
 "cells": [
  {
   "cell_type": "markdown",
   "metadata": {},
   "source": [
    "# Acesso ao banco em Java\n",
    "\n",
    "Considere a rotina em\n",
    "Esta rotina conecta o banco de estradas, carrega a tabela de Cidades e lista."
   ]
  },
  {
   "cell_type": "code",
   "execution_count": 3,
   "metadata": {},
   "outputs": [
    {
     "data": {
      "text/plain": [
       "com.twosigma.beaker.javash.bkr71b12edc.AppListaCidades"
      ]
     },
     "execution_count": 3,
     "metadata": {},
     "output_type": "execute_result"
    }
   ],
   "source": [
    "%classpath add jar ../../java/Estradas/lib/h2-1.4.197.jar\n",
    "\n",
    "import java.sql.Connection;\n",
    "import java.sql.DriverManager;\n",
    "import java.sql.ResultSet;\n",
    "import java.sql.SQLException;\n",
    "import java.sql.Statement;\n",
    "\n",
    "public class AppListaCidades\n",
    "{\n",
    "      public static void listaCidades()\n",
    "      {\n",
    "        try {\n",
    "            // carrega classe com implementacao para o driver\n",
    "            //   neste caso o driver MySQL\n",
    "            Class.forName(\"org.h2.Driver\");\n",
    "\n",
    "            // estabelece conexao com a base de dados\n",
    "            Connection conexao = DriverManager.getConnection(\"jdbc:h2:file:~/jupyter/data/caminhos/caminhos\");\n",
    "\n",
    "            // cria um objeto de comandos SQL para a base\n",
    "            Statement comando = conexao.createStatement();\n",
    "\n",
    "            // aciona metodo que executa comando SQL (este metodo e especialmente usado para acesso)\n",
    "            ResultSet resultado = comando.executeQuery(\"SELECT * FROM Cidade\");\n",
    "            \n",
    "            System.out.println(\"===== Cidades =====\");\n",
    "            System.out.println(\"cidadeid, nome\");\n",
    "            \n",
    "            // lista o conteudo da tabela no console\n",
    "            boolean temConteudo = resultado.next();\n",
    "            while (temConteudo)\n",
    "            {\n",
    "              String cidadeid = resultado.getString(\"cidadeid\");\n",
    "              String nome = resultado.getString(\"nome\");\n",
    "              System.out.println(cidadeid + \", \" + nome);\n",
    "              temConteudo = resultado.next();\n",
    "            }\n",
    "\n",
    "            comando.close();\n",
    "            conexao.close();\n",
    "        } catch (ClassNotFoundException erro) {\n",
    "            System.out.println(\"ClassNotFoundException: \" + erro.getMessage());\n",
    "        } catch (SQLException erro) {\n",
    "            System.out.println(\"Erro no SQL: \" + erro.getMessage());\n",
    "        }\n",
    "      }\n",
    "}"
   ]
  },
  {
   "cell_type": "code",
   "execution_count": 4,
   "metadata": {},
   "outputs": [
    {
     "name": "stdout",
     "output_type": "stream",
     "text": [
      "Erro no SQL: Database may be already in use: null. Possible solutions: close all other connection(s); use the server mode [90020-197]\n"
     ]
    },
    {
     "data": {
      "text/plain": [
       "null"
      ]
     },
     "execution_count": 4,
     "metadata": {},
     "output_type": "execute_result"
    }
   ],
   "source": [
    "AppListaCidades.listaCidades();"
   ]
  }
 ],
 "metadata": {
  "kernelspec": {
   "display_name": "Java",
   "language": "java",
   "name": "java"
  },
  "language_info": {
   "codemirror_mode": "text/x-java",
   "file_extension": ".java",
   "mimetype": "",
   "name": "Java",
   "nbconverter_exporter": "",
   "version": "1.8.0_181"
  }
 },
 "nbformat": 4,
 "nbformat_minor": 2
}
