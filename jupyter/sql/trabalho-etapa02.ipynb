{
 "cells": [
  {
   "cell_type": "markdown",
   "metadata": {},
   "source": [
    "MODELO CONCEITUAL (Versao final)"
   ]
  },
  {
   "cell_type": "markdown",
   "metadata": {},
   "source": [
    "![title](../img/diagrama_etapa02.2.jpg)"
   ]
  },
  {
   "cell_type": "markdown",
   "metadata": {},
   "source": [
    "MODELO RELACIONAL\n",
    "\n",
    "Doenca(__id__, nome, categoria)\n",
    "\n",
    "DoencaSintoma(__idDoenca__, __sintoma__)\n",
    "FK: idDoenca - Doenca(id)\n",
    "\n",
    "Paciente(__id__, tipo, altura, peso, sexo, idade)\n",
    "\n",
    "PacienteSintoma(__idPaciente__, __sintoma__)\n",
    "FK: idPaciente - Paciente(id)\n",
    "\n",
    "PacienteHistoricoDoencas(__idPaciente__, __idDoenca__)\n",
    "FK: idPaciente - Paciente(id)\n",
    "FK: idDoenca - Doenca(id)\n",
    "\n",
    "ContaMedico(__username__, senha, nome, sobrenome, email, numCRM, situacao)\n",
    "\n",
    "Remedio(__id__, principioAtivo, laboratorio, nomeVenda, apresentacao, classeTerapeutica, tipo, restricaoHospitalar, tarja)\n",
    "\n",
    "Tratamento(__id__, __idRemedio__, quantidade, tipo, horarioUso, tempoUso)\n",
    "FK: idRemedio - Remedio(id)\n",
    "\n",
    "Recomendacao(__codigo__, usernameMedico, idPaciente, __idTratamento__)\n",
    "FK: usernameMedico - Medico(username)\n",
    "FK: idPaciente - Paciente(id)"
   ]
  },
  {
   "cell_type": "code",
   "execution_count": 2,
   "metadata": {},
   "outputs": [],
   "source": [
    "%defaultDatasource jdbc:h2:mem:db"
   ]
  },
  {
   "cell_type": "code",
   "execution_count": 4,
   "metadata": {},
   "outputs": [],
   "source": [
    "DROP TABLE IF EXISTS Doenca;\n",
    "DROP TABLE IF EXISTS DoencaSintoma;\n",
    "DROP TABLE IF EXISTS Paciente;\n",
    "DROP TABLE IF EXISTS PacienteSintoma;\n",
    "DROP TABLE IF EXISTS PacienteHistoricoDoencas;\n",
    "DROP TABLE IF EXISTS ContaMedico;\n",
    "DROP TABLE IF EXISTS Remedio;\n",
    "DROP TABLE IF EXISTS Tratamento;\n",
    "DROP TABLE IF EXISTS Recomendacao;\n",
    "\n",
    "CREATE TABLE Doenca (\n",
    "  id VARCHAR(5) NOT NULL,\n",
    "  nome VARCHAR(30) NOT NULL,\n",
    "  categoria VARCHAR(50) NULL,\n",
    "  PRIMARY KEY(id)\n",
    ");\n",
    "\n",
    "CREATE TABLE DoencaSintoma (\n",
    "  idDoenca VARCHAR(5) NOT NULL,\n",
    "  sintoma VARCHAR(50) NOT NULL,\n",
    "  PRIMARY KEY(idDoenca, Sintoma),\n",
    "  FOREIGN KEY(idDoenca)\n",
    "    REFERENCES Doenca(id)\n",
    "      ON DELETE NO ACTION\n",
    "      ON UPDATE NO ACTION\n",
    ");\n",
    "\n",
    "CREATE TABLE Paciente (\n",
    "  id VARCHAR(10) NOT NULL,\n",
    "  tipo CHAR NOT NULL,\n",
    "  altura DOUBLE NOT NULL,\n",
    "  peso DOUBLE NOT NULL,\n",
    "  sexo CHAR NOT NULL,\n",
    "  idade INTEGER NOT NULL,\n",
    "  PRIMARY KEY(id)\n",
    ");\n",
    "\n",
    "CREATE TABLE PacienteSintoma (\n",
    "  idPaciente VARCHAR(10) NOT NULL,\n",
    "  sintoma VARCHAR(50) NOT NULL,\n",
    "  PRIMARY KEY(idPaciente, Sintoma),\n",
    "  FOREIGN KEY(idPaciente)\n",
    "    REFERENCES Paciente(id)\n",
    "      ON DELETE NO ACTION\n",
    "      ON UPDATE NO ACTION\n",
    ");\n",
    "\n",
    "CREATE TABLE PacienteHistoricoDoencas (\n",
    "  idPaciente VARCHAR(10) NOT NULL,\n",
    "  idDoenca VARCHAR(5) NOT NULL,\n",
    "  PRIMARY KEY(idDoenca, idPaciente),\n",
    "  FOREIGN KEY(idDoenca)\n",
    "    REFERENCES Doenca(id)\n",
    "      ON DELETE NO ACTION\n",
    "      ON UPDATE NO ACTION,\n",
    "  FOREIGN KEY(idPaciente)\n",
    "    REFERENCES Paciente(id)\n",
    "      ON DELETE NO ACTION\n",
    "      ON UPDATE NO ACTION\n",
    ");\n",
    "\n",
    "CREATE TABLE ContaMedico (\n",
    "  username VARCHAR(20) NOT NULL,\n",
    "  senha VARCHAR(20) NOT NULL,\n",
    "  nome VARCHAR(20) NOT NULL,\n",
    "  sobrenome VARCHAR(20) NOT NULL,\n",
    "  email VARCHAR(20) NOT NULL,\n",
    "  numCRM INTEGER NOT NULL,\n",
    "  situacao CHAR NOT NULL,\n",
    "  PRIMARY KEY(username)\n",
    ");\n",
    "\n",
    "CREATE TABLE Remedio (\n",
    "  id VARCHAR(20) NOT NULL,\n",
    "  principioAtivo VARCHAR(250) NOT NULL,\n",
    "  laboratorio VARCHAR(150) NOT NULL,\n",
    "  nomeVenda VARCHAR(150) NOT NULL,\n",
    "  apresentacao VARCHAR(200) NULL,\n",
    "  classeTerapeutica VARCHAR(150) NULL,\n",
    "  tipo VARCHAR(150) NOT NULL,\n",
    "  restricaoHospitalar VARCHAR(50) NULL,\n",
    "  tarja VARCHAR(15) NULL,\n",
    "  PRIMARY KEY(id)\n",
    ") AS SELECT\n",
    "    ID_REMEDIO,\n",
    "    PRINCIPIO_ATIVO,\n",
    "    LABORATORIO,\n",
    "    PRODUTO,\n",
    "    APRESENTACAO,\n",
    "    CLASSE_TERAPEUTICA,\n",
    "    TIPO_DE_PRODUTO,\n",
    "    RESTRICAO_HOSPITALAR,\n",
    "    TARJA\n",
    "FROM CSVREAD('../data/tabela_remedios_2.csv');\n",
    "\n",
    "CREATE TABLE Tratamento (\n",
    "  id VARCHAR(20) NOT NULL,\n",
    "  idRemedio VARCHAR(50) NOT NULL,\n",
    "  quantidade VARCHAR(20) NOT NULL,\n",
    "  tipo VARCHAR(100) NOT NULL,\n",
    "  horarioUso VARCHAR(50) NOT NULL,\n",
    "  tempoUso INTEGER NOT NULL,\n",
    "  PRIMARY KEY(id, idRemedio),\n",
    "  FOREIGN KEY(idRemedio)\n",
    "    REFERENCES Remedio(id)\n",
    "      ON DELETE NO ACTION\n",
    "      ON UPDATE NO ACTION\n",
    ");\n",
    "\n",
    "CREATE TABLE Recomendacao (\n",
    "  codigo VARCHAR(10) NOT NULL,\n",
    "  usernameMedico VARCHAR(20) NOT NULL,\n",
    "  idPaciente VARCHAR(20) NOT NULL,\n",
    "  idTratamento VARCHAR(20) NOT NULL,\n",
    "  PRIMARY KEY(codigo, idTratamento),\n",
    "  FOREIGN KEY(usernameMedico)\n",
    "    REFERENCES ContaMedico(username)\n",
    "      ON DELETE NO ACTION\n",
    "      ON UPDATE NO ACTION,\n",
    "  FOREIGN KEY(idPaciente)\n",
    "    REFERENCES Paciente(id)\n",
    "      ON DELETE NO ACTION\n",
    "      ON UPDATE NO ACTION,\n",
    "    --fazendo referencia à tabela Tratamento se apresenta o erro: 'Primary key violation',\n",
    "    --devido a que só se quere fazer referencia a um elemento (id) da superchave (id, idRemedio)\n",
    ");"
   ]
  },
  {
   "cell_type": "code",
   "execution_count": 5,
   "metadata": {},
   "outputs": [],
   "source": [
    "INSERT INTO Doenca VALUES ('D1','Febre tifoide','Doencas infecciosas intestinais');\n",
    "INSERT INTO Doenca VALUES ('D2','Febre amarela','Febre arbovirus e hemorrágicas virais');\n",
    "INSERT INTO Doenca VALUES ('D3','Malaria/Plasmodium falciparum','Doenças por protozoarios');\n",
    "\n",
    "INSERT INTO DoencaSintoma VALUES ('D1','Febre alta');\n",
    "INSERT INTO DoencaSintoma VALUES ('D1','Mal estar');\n",
    "INSERT INTO DoencaSintoma VALUES ('D1','Tosse seca');\n",
    "INSERT INTO DoencaSintoma VALUES ('D2','Febre');\n",
    "INSERT INTO DoencaSintoma VALUES ('D2','Cansaço');\n",
    "INSERT INTO DoencaSintoma VALUES ('D2','Mal-estar');\n",
    "INSERT INTO DoencaSintoma VALUES ('D2','Dor de cabeça');\n",
    "INSERT INTO DoencaSintoma VALUES ('D3','Dor de cabeça');\n",
    "INSERT INTO DoencaSintoma VALUES ('D3','Febre');\n",
    "INSERT INTO DoencaSintoma VALUES ('D3','Calafrios');\n",
    "\n",
    "INSERT INTO Paciente VALUES ('med1P1','C',120,30,'M',5);\n",
    "INSERT INTO Paciente VALUES ('med1P2','A',170,100,'F',36);\n",
    "INSERT INTO Paciente VALUES ('med2P1','a',170,60,'F',15);\n",
    "INSERT INTO Paciente VALUES ('med3P1','I',162,67,'M',60);\n",
    "INSERT INTO Paciente VALUES ('med4P1','I',162,67,'M',60);\n",
    "\n",
    "INSERT INTO PacienteSintoma VALUES ('med1P1','Febre');\n",
    "INSERT INTO PacienteSintoma VALUES ('med1P2','Mal-estar');\n",
    "INSERT INTO PacienteSintoma VALUES ('med2P1','Dor de cabeça');\n",
    "INSERT INTO PacienteSintoma VALUES ('med3P1','Tosse seca');\n",
    "INSERT INTO PacienteSintoma VALUES ('med3P1','Febre');\n",
    "INSERT INTO PacienteSintoma VALUES ('med3P1','Mal-estar');\n",
    "INSERT INTO PacienteSintoma VALUES ('med4P1','Febre');\n",
    "\n",
    "INSERT INTO PacienteHistoricoDoencas VALUES ('med1P1','D1');\n",
    "INSERT INTO PacienteHistoricoDoencas VALUES ('med1P1','D3');\n",
    "INSERT INTO PacienteHistoricoDoencas VALUES ('med1P2','D3');\n",
    "INSERT INTO PacienteHistoricoDoencas VALUES ('med2P1','D2');\n",
    "INSERT INTO PacienteHistoricoDoencas VALUES ('med4P1','D3');\n",
    "\n",
    "INSERT INTO contaMedico VALUES ('med1','1234','Alfredo','Flores','medico1@gmail.com',12445,'A');\n",
    "INSERT INTO contaMedico VALUES ('med2','1224','Joao','Diaz','medico2@gmail.com',10154,'A');\n",
    "INSERT INTO contaMedico VALUES ('med3','1278','Mauricio','Almeia','medico3@gmail.com',10624,'A');\n",
    "INSERT INTO contaMedico VALUES ('med4','1076','Pedro','Einstein','medico4@gmail.com',10103,'A');\n",
    "INSERT INTO contaMedico VALUES ('med5','1357','Jean','Raiz','medico5@gmail.com',11254,'A');\n",
    "\n",
    "INSERT INTO Tratamento VALUES ('med1T1','R1','2','Comprimidos','4x/dia',7);\n",
    "INSERT INTO Tratamento VALUES ('med1T2','R47','3','Comprimidos','1x/dia',3);\n",
    "INSERT INTO Tratamento VALUES ('med2T1','R153','2','Comprimidos','4x/dia',7);\n",
    "INSERT INTO Tratamento VALUES ('med3T1','R300','2','Comprimidos','3x/dia',15);\n",
    "INSERT INTO Tratamento VALUES ('med4T1','R67','1','Comprimidos','1x/dia',5);\n",
    "INSERT INTO Tratamento VALUES ('med4T2','R562','2','Comprimidos','2x/dia',8);\n",
    "INSERT INTO Tratamento VALUES ('med4T3','R561','1','Comprimidos','2x/dia',8);\n",
    "\n",
    "INSERT INTO Recomendacao VALUES ('med1P1Re','med1','med1P1','med1T1');\n",
    "INSERT INTO Recomendacao VALUES ('med1P1Re','med1','med1P1','med1T2');\n",
    "INSERT INTO Recomendacao VALUES ('med1P2Re','med1','med1P2','med1T2');\n",
    "INSERT INTO Recomendacao VALUES ('med2P1Re','med2','med2P1','med2T1');\n",
    "INSERT INTO Recomendacao VALUES ('med3P1Re','med3','med3P1','med3T1');\n",
    "INSERT INTO Recomendacao VALUES ('med4P1Re','med4','med4P1','med4T1');\n",
    "INSERT INTO Recomendacao VALUES ('med4P1Re','med4','med4P1','med4T2');\n",
    "INSERT INTO Recomendacao VALUES ('med4P1Re','med4','med4P1','med4T3');"
   ]
  },
  {
   "cell_type": "markdown",
   "metadata": {},
   "source": [
    "1) Contagem de vezes que uma doenca foi detetada."
   ]
  },
  {
   "cell_type": "code",
   "execution_count": 4,
   "metadata": {},
   "outputs": [
    {
     "data": {
      "application/vnd.jupyter.widget-view+json": {
       "model_id": "1cce7503-8a72-47ff-93b4-39c301dd0e51",
       "version_major": 2,
       "version_minor": 0
      },
      "method": "display_data"
     },
     "metadata": {},
     "output_type": "display_data"
    }
   ],
   "source": [
    "SELECT idDoenca, COUNT(*) AS contagem\n",
    "FROM PacienteHistoricoDoencas\n",
    "GROUP BY idDoenca"
   ]
  },
  {
   "cell_type": "markdown",
   "metadata": {},
   "source": [
    "2) Relacao de remedios que precisam de receita."
   ]
  },
  {
   "cell_type": "code",
   "execution_count": 5,
   "metadata": {},
   "outputs": [
    {
     "data": {
      "application/vnd.jupyter.widget-view+json": {
       "model_id": "839f623a-b828-476e-9c64-554dff587140",
       "version_major": 2,
       "version_minor": 0
      },
      "method": "display_data"
     },
     "metadata": {},
     "output_type": "display_data"
    }
   ],
   "source": [
    "SELECT DISTINCT nomeVenda, tarja\n",
    "FROM Remedio\n",
    "WHERE tarja = 'Tarja Preta' OR tarja = 'Tarja Vermelha'\n",
    "ORDER BY nomeVenda"
   ]
  },
  {
   "cell_type": "markdown",
   "metadata": {},
   "source": [
    "3) Nome dos medicos que receitaram um Tratamento por mais de 10 dias. Tambem apresentar o nome de venda do remedio."
   ]
  },
  {
   "cell_type": "code",
   "execution_count": 6,
   "metadata": {},
   "outputs": [
    {
     "data": {
      "application/vnd.jupyter.widget-view+json": {
       "model_id": "5b9fdb47-6a0f-48ae-b09b-2452194cd54a",
       "version_major": 2,
       "version_minor": 0
      },
      "method": "display_data"
     },
     "metadata": {},
     "output_type": "display_data"
    }
   ],
   "source": [
    "SELECT M.nome, R.id, R.nomeVenda\n",
    "FROM Recomendacao Re, ContaMedico M, Tratamento T, Remedio R\n",
    "WHERE Re.usernameMedico = M.username AND Re.idTratamento = T.id AND T.idRemedio = R.id AND\n",
    "T.tempoUso > 5"
   ]
  }
 ],
 "metadata": {
  "kernelspec": {
   "display_name": "SQL",
   "language": "SQL",
   "name": "sql"
  },
  "language_info": {
   "codemirror_mode": "sql",
   "file_extension": ".sql",
   "mimetype": "",
   "name": "SQL",
   "nbconverter_exporter": "",
   "version": ""
  }
 },
 "nbformat": 4,
 "nbformat_minor": 2
}
