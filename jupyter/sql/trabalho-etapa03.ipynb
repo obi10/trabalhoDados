{
 "cells": [
  {
   "cell_type": "markdown",
   "metadata": {},
   "source": [
    "**MODELO CONCEITUAL (Versao 1.3)**"
   ]
  },
  {
   "cell_type": "markdown",
   "metadata": {},
   "source": [
    "![title](../img/modelo-conceitual-1.3.png)"
   ]
  },
  {
   "cell_type": "markdown",
   "metadata": {},
   "source": [
    "__MODELO RELACIONAL__\n",
    "\n",
    "Doenca(__id__, nome, categoria)\n",
    "\n",
    "Paciente(__id__, tipo, altura, peso, sexo, idade)\n",
    "\n",
    "Sintoma(__codigo__, nome)\n",
    "\n",
    "PacienteSintoma(__idPaciente__, __codSintoma__)<br/>\n",
    "FK: idPaciente - Paciente(id)<br/>\n",
    "FK: codSintoma - Sintoma(codigo)\n",
    "\n",
    "PacienteHistoricoDoencas(__idPaciente__, __idDoenca__)<br/>\n",
    "FK: idPaciente - Paciente(id)<br/>\n",
    "FK: idDoenca - Doenca(id)\n",
    "\n",
    "ContaMedico(__username__, senha, nome, sobrenome, email, numCRM, cidadeFederativa, situacao)\n",
    "\n",
    "Remedio(__id__, principioAtivo, laboratorio, nomeVenda, apresentacao, classeTerapeutica, tipo, restricaoHospitalar, tarja)\n",
    "\n",
    "Tratamento(__id__, __idRemedio__, apreDosagem, dosis_mcg, dosis_mg, dosis_ml, numGotas, repeticao, numVezesDia, numDias)<br/>\n",
    "FK: idRemedio - Remedio(id)\n",
    "\n",
    "Recomendacao(__codigo__, usernameMedico, idPaciente, __idTratamento__)<br/>\n",
    "FK: usernameMedico - Medico(username)<br/>\n",
    "FK: idPaciente - Paciente(id)"
   ]
  },
  {
   "cell_type": "markdown",
   "metadata": {},
   "source": [
    "__SQL__"
   ]
  },
  {
   "cell_type": "code",
   "execution_count": 1,
   "metadata": {},
   "outputs": [],
   "source": [
    "%defaultDatasource jdbc:h2:mem:db"
   ]
  },
  {
   "cell_type": "code",
   "execution_count": 2,
   "metadata": {},
   "outputs": [],
   "source": [
    "DROP TABLE IF EXISTS Doenca;\n",
    "DROP TABLE IF EXISTS Paciente;\n",
    "DROP TABLE IF EXISTS Sintoma;\n",
    "DROP TABLE IF EXISTS PacienteSintoma;\n",
    "DROP TABLE IF EXISTS PacienteHistoricoDoencas;\n",
    "DROP TABLE IF EXISTS ContaMedico;\n",
    "DROP TABLE IF EXISTS Remedio;\n",
    "DROP TABLE IF EXISTS Tratamento;\n",
    "DROP TABLE IF EXISTS Recomendacao;\n",
    "\n",
    "CREATE TABLE Doenca (\n",
    "  id VARCHAR(5) NOT NULL,\n",
    "  nome VARCHAR(50) NOT NULL,\n",
    "  categoria VARCHAR(50) NULL,\n",
    "  PRIMARY KEY(id)\n",
    ") AS SELECT\n",
    "    id,\n",
    "    nome,\n",
    "    categoria\n",
    "FROM CSVREAD('../data/Doenca.csv');\n",
    "\n",
    "CREATE TABLE Paciente (\n",
    "  id VARCHAR(10) NOT NULL,\n",
    "  tipo CHAR NOT NULL,\n",
    "  altura DOUBLE NOT NULL,\n",
    "  peso DOUBLE NOT NULL,\n",
    "  sexo CHAR NOT NULL,\n",
    "  idade INTEGER NOT NULL,\n",
    "  PRIMARY KEY(id)\n",
    ") AS SELECT\n",
    "    id,\n",
    "    tipo,\n",
    "    altura,\n",
    "    peso,\n",
    "    sexo,\n",
    "    idade\n",
    "FROM CSVREAD('../data/Paciente.csv');\n",
    "\n",
    "CREATE TABLE Sintoma (\n",
    "  codigo VARCHAR(5) NOT NULL,\n",
    "  nome VARCHAR(50) NOT NULL,\n",
    "  PRIMARY KEY(codigo)\n",
    ") AS SELECT\n",
    "    codigo,\n",
    "    nome\n",
    "FROM CSVREAD('../data/Sintoma.csv');\n",
    "\n",
    "CREATE TABLE PacienteSintoma (\n",
    "  idPaciente VARCHAR(10) NOT NULL,\n",
    "  codSintoma VARCHAR(5) NOT NULL,\n",
    "  PRIMARY KEY(idPaciente, codSintoma),\n",
    "  FOREIGN KEY(idPaciente)\n",
    "    REFERENCES Paciente(id)\n",
    "      ON DELETE NO ACTION\n",
    "      ON UPDATE NO ACTION,\n",
    "  FOREIGN KEY(codSintoma)\n",
    "    REFERENCES Sintoma(codigo)\n",
    "      ON DELETE NO ACTION\n",
    "      ON UPDATE NO ACTION\n",
    ") AS SELECT\n",
    "    idPaciente,\n",
    "    codSintoma\n",
    "FROM CSVREAD('../data/PacienteSintoma.csv');\n",
    "\n",
    "CREATE TABLE PacienteHistoricoDoencas (\n",
    "  idPaciente VARCHAR(10) NOT NULL,\n",
    "  idDoenca VARCHAR(5) NOT NULL,\n",
    "  PRIMARY KEY(idDoenca, idPaciente),\n",
    "  FOREIGN KEY(idPaciente)\n",
    "    REFERENCES Paciente(id)\n",
    "      ON DELETE NO ACTION\n",
    "      ON UPDATE NO ACTION,\n",
    "  FOREIGN KEY(idDoenca)\n",
    "    REFERENCES Doenca(id)\n",
    "      ON DELETE NO ACTION\n",
    "      ON UPDATE NO ACTION\n",
    ") AS SELECT\n",
    "    idPaciente,\n",
    "    idDoenca\n",
    "FROM CSVREAD('../data/PacienteHistoricoDoencas.csv');\n",
    "\n",
    "CREATE TABLE ContaMedico (\n",
    "  username VARCHAR(20) NOT NULL,\n",
    "  senha VARCHAR(20) NOT NULL,\n",
    "  nome VARCHAR(50) NOT NULL,\n",
    "  sobrenome VARCHAR(50) NOT NULL,\n",
    "  email VARCHAR(70) NOT NULL,\n",
    "  numCRM INTEGER NOT NULL,\n",
    "  cidadeFederativa VARCHAR(3) NOT NULL,\n",
    "  situacao CHAR NOT NULL,\n",
    "  PRIMARY KEY(username)\n",
    ") AS SELECT\n",
    "    username,\n",
    "    senha,\n",
    "    nome,\n",
    "    sobrenome,\n",
    "    email,\n",
    "    numCRM,\n",
    "    cidadeFederativa,\n",
    "    situacao\n",
    "FROM CSVREAD('../data/ContaMedico.csv');\n",
    "\n",
    "CREATE TABLE Remedio (\n",
    "  id VARCHAR(20) NOT NULL,\n",
    "  principioAtivo VARCHAR(250) NOT NULL,\n",
    "  laboratorio VARCHAR(150) NOT NULL,\n",
    "  nomeVenda VARCHAR(150) NOT NULL,\n",
    "  apresentacao VARCHAR(200) NULL,\n",
    "  classeTerapeutica VARCHAR(150) NULL,\n",
    "  tipo VARCHAR(150) NOT NULL,\n",
    "  restricaoHospitalar VARCHAR(50) NULL,\n",
    "  tarja VARCHAR(15) NULL,\n",
    "  PRIMARY KEY(id)\n",
    ") AS SELECT\n",
    "    ID_REMEDIO,\n",
    "    PRINCIPIO_ATIVO,\n",
    "    LABORATORIO,\n",
    "    PRODUTO,\n",
    "    APRESENTACAO,\n",
    "    CLASSE_TERAPEUTICA,\n",
    "    TIPO_DE_PRODUTO,\n",
    "    RESTRICAO_HOSPITALAR,\n",
    "    TARJA\n",
    "FROM CSVREAD('../data/Remedio.csv');\n",
    "\n",
    "CREATE TABLE Tratamento (\n",
    "  id VARCHAR(20) NOT NULL,\n",
    "  idRemedio VARCHAR(20) NOT NULL,\n",
    "  apreDosagem VARCHAR(20) NOT NULL,\n",
    "  dosis_mcg DOUBLE NULL,\n",
    "  dosis_mg DOUBLE NULL,\n",
    "  dosis_ml DOUBLE NULL,\n",
    "  numGotas DOUBLE NULL,\n",
    "  repeticao INTEGER NULL,\n",
    "  numVezesDia INTEGER NULL,\n",
    "  numDias INTEGER NULL,\n",
    "  PRIMARY KEY(id, idRemedio),\n",
    "  FOREIGN KEY(idRemedio)\n",
    "    REFERENCES Remedio(id)\n",
    "      ON DELETE NO ACTION\n",
    "      ON UPDATE NO ACTION\n",
    ") AS SELECT\n",
    "    id,\n",
    "    idRemedio,\n",
    "    apreDosagem,\n",
    "    dosis_mcg,\n",
    "    dosis_mg,\n",
    "    dosis_ml,\n",
    "    numGotas,\n",
    "    repeticao,\n",
    "    numVezesDia,\n",
    "    numDias\n",
    "FROM CSVREAD('../data/Tratamento.csv');\n",
    "\n",
    "CREATE TABLE Recomendacao (\n",
    "  codigo VARCHAR(10) NOT NULL,\n",
    "  usernameMedico VARCHAR(20) NOT NULL,\n",
    "  idPaciente VARCHAR(10) NOT NULL,\n",
    "  idTratamento VARCHAR(20) NOT NULL,\n",
    "  PRIMARY KEY(codigo, idTratamento),\n",
    "  FOREIGN KEY(usernameMedico)\n",
    "    REFERENCES ContaMedico(username)\n",
    "      ON DELETE NO ACTION\n",
    "      ON UPDATE NO ACTION,\n",
    "  FOREIGN KEY(idPaciente)\n",
    "    REFERENCES Paciente(id)\n",
    "      ON DELETE NO ACTION\n",
    "      ON UPDATE NO ACTION\n",
    "    --fazendo referencia à tabela Tratamento se apresenta o erro: 'Primary key violation',\n",
    "    --devido a que só se quere fazer referencia a um elemento (id) da superchave (id, idRemedio)\n",
    ") AS SELECT\n",
    "    codigo,\n",
    "    usernameMedico,\n",
    "    idPaciente,\n",
    "    idTratamento\n",
    "FROM CSVREAD('../data/Recomendacao.csv');"
   ]
  },
  {
   "cell_type": "markdown",
   "metadata": {},
   "source": [
    "**CONSULTAS - SQL**"
   ]
  },
  {
   "cell_type": "markdown",
   "metadata": {},
   "source": [
    "1) Quais sao os medicamentos escolhidos pelos doutores para tratar sintomas como: lacrimejo e coceira-olhos.<br/>\n",
    "Obs: ter em conta que estos sintomas se podem apresentar juntos com outros."
   ]
  },
  {
   "cell_type": "code",
   "execution_count": 3,
   "metadata": {},
   "outputs": [
    {
     "data": {
      "application/vnd.jupyter.widget-view+json": {
       "model_id": "a4fe83eb-d52a-4cc3-8d77-b41347827d8b",
       "version_major": 2,
       "version_minor": 0
      },
      "method": "display_data"
     },
     "metadata": {},
     "output_type": "display_data"
    }
   ],
   "source": [
    "--primeiro obtemos os codigos de esos sintomas\n",
    "--segundo obtemos os pacientes que apresentam estos sintomas (estos pacientes podem ter mais sintomas)\n",
    "--terceiro se obtem os tratamento para esos pacientes (mas estos tratamentos podem ser para outros sintomas)\n",
    "--finalmente se obtem os remedios para os tratamentos\n",
    "SELECT R.idPaciente, T1.numSintomas, R.idTratamento, Tra.idRemedio, Re.nomeVenda, Re.apresentacao FROM Recomendacao R, Tratamento Tra, Remedio Re\n",
    "INNER JOIN (SELECT PS1.idPaciente, COUNT(DISTINCT PS2.codSintoma) AS numSintomas FROM PacienteSintoma PS1, PacienteSintoma PS2\n",
    "WHERE PS1.codSintoma IN (SELECT S.codigo FROM Sintoma AS S\n",
    "                    WHERE S.nome = 'lacrimejo' OR S.nome = 'coceira-olhos')\n",
    "AND PS2.idPaciente = PS1.idPaciente\n",
    "GROUP BY PS2.idPaciente\n",
    "ORDER BY numSintomas) T1\n",
    "ON R.idPaciente = T1.idPaciente\n",
    "WHERE R.idTratamento = Tra.id\n",
    "AND Tra.idRemedio = Re.id"
   ]
  },
  {
   "cell_type": "markdown",
   "metadata": {},
   "source": [
    "2) Que tipo de remedios sao receitados às pessoas que sofrem de pressao alta, quando apresentan congestionamento nasal."
   ]
  },
  {
   "cell_type": "code",
   "execution_count": 4,
   "metadata": {},
   "outputs": [
    {
     "data": {
      "application/vnd.jupyter.widget-view+json": {
       "model_id": "8fb7ce39-707a-4af3-8302-5c0630656dfa",
       "version_major": 2,
       "version_minor": 0
      },
      "method": "display_data"
     },
     "metadata": {},
     "output_type": "display_data"
    }
   ],
   "source": [
    "--primeiro se obtem o codigo do sintoma solicitado\n",
    "--segundo se obtem os pacientes que sofrem de pressao alta e tem o sintoma\n",
    "--depois se obtem os medicamentos indicados pelos doutores em seus tratamentos\n",
    "SELECT R.idPaciente, R.idTratamento, Tra.idRemedio, Re.nomeVenda, Re.apresentacao FROM Recomendacao R, Tratamento Tra, Remedio Re\n",
    "WHERE R.idPaciente IN (SELECT PHD.idPaciente FROM PacienteHistoricoDoencas PHD, Doenca D\n",
    "                    INNER JOIN (SELECT DISTINCT PS.idPaciente FROM PacienteSintoma PS\n",
    "                    WHERE PS.codSintoma IN (SELECT S.codigo FROM Sintoma AS S\n",
    "                                        WHERE S.nome = 'congestao nasal')) T1\n",
    "                    ON PHD.idPaciente = T1.idPaciente\n",
    "                    AND PHD.idDoenca = D.id\n",
    "                    WHERE D.nome = 'Pressao alta')\n",
    "AND R.idTratamento = Tra.id\n",
    "AND Tra.idRemedio = Re.id\n",
    "ORDER BY R.idPaciente"
   ]
  },
  {
   "cell_type": "markdown",
   "metadata": {},
   "source": [
    "3) Quando os pacientes que sofrem de insuficiencia renal tem sintomas de alergia (lacrimejo, coceira-olhos, coriza ou vermelhidao), a quantidade de medicamento receitado segue algum padrao?"
   ]
  },
  {
   "cell_type": "code",
   "execution_count": 9,
   "metadata": {},
   "outputs": [
    {
     "data": {
      "application/vnd.jupyter.widget-view+json": {
       "model_id": "b731ba10-4514-4198-bb09-a5508fad8d5d",
       "version_major": 2,
       "version_minor": 0
      },
      "method": "display_data"
     },
     "metadata": {},
     "output_type": "display_data"
    }
   ],
   "source": [
    "--se obtem as caracteristicas dos tratamentos indicados aos pacientes que sofrem de insuficiencia renal e tem sintomas de alergia\n",
    "SELECT R.idPaciente, Tra.*, Re.nomeVenda, T.nomeDoenca FROM Recomendacao R, Tratamento Tra, Remedio Re\n",
    "INNER JOIN\n",
    "(SELECT PHD.idPaciente, PHD.idDoenca, D.nome AS nomeDoenca FROM PacienteHistoricoDoencas PHD, Doenca D\n",
    "INNER JOIN (SELECT DISTINCT PS.idPaciente FROM PacienteSintoma PS\n",
    "WHERE PS.codSintoma IN (SELECT S.codigo FROM Sintoma AS S\n",
    "                    WHERE S.nome = 'lacrimejo' OR S.nome = 'coceira-olhos' OR S.nome = 'coriza' OR S.nome = 'vermelhidao')) T1\n",
    "ON PHD.idPaciente = T1.idPaciente\n",
    "AND PHD.idDoenca = D.id\n",
    "WHERE nome = 'Insuficiência renal normal' OR nome = 'Insuficiencia renal media' OR nome = 'Insuficiencia renal moderada' OR nome = 'Insuficiencia renal grave') T\n",
    "ON R.idPaciente = T.idPaciente\n",
    "AND R.idTratamento = Tra.id\n",
    "AND Tra.idRemedio = Re.id\n",
    "ORDER BY Tra.dosis_mg\n",
    "--se observa que a dosis é menor a um maior nivel de enfermedad"
   ]
  },
  {
   "cell_type": "markdown",
   "metadata": {},
   "source": [
    "4) Quando uma crianca tem tosse, os remedios receitados seguem algum padrao relacionado com o peso?"
   ]
  },
  {
   "cell_type": "code",
   "execution_count": 25,
   "metadata": {},
   "outputs": [
    {
     "data": {
      "application/vnd.jupyter.widget-view+json": {
       "model_id": "d0712f7c-2f57-4150-a305-80f765b18b32",
       "version_major": 2,
       "version_minor": 0
      },
      "method": "display_data"
     },
     "metadata": {},
     "output_type": "display_data"
    }
   ],
   "source": [
    "--primero se obtem as criancas que sofrem de tosse\n",
    "--segundo se os remedios receitados para eles\n",
    "SELECT R.idPaciente, T.peso, Tra.*, Re.nomeVenda, Re.apresentacao FROM Recomendacao R, Tratamento Tra, Remedio Re\n",
    "INNER JOIN\n",
    "(SELECT PA.* FROM Paciente PA\n",
    "WHERE PA.tipo = 'C'\n",
    "AND PA.id IN (SELECT DISTINCT PS.idPaciente FROM PacienteSintoma PS\n",
    "            WHERE PS.codSintoma IN (SELECT S.codigo FROM Sintoma AS S\n",
    "                                    WHERE S.nome = 'tosse'))) T\n",
    "ON R.idPaciente = T.id\n",
    "AND R.idTratamento = Tra.id\n",
    "AND Tra.idRemedio = Re.id\n",
    "ORDER BY R.idPaciente\n",
    "--se observa que o numero de gotas coincide com seu peso"
   ]
  },
  {
   "cell_type": "markdown",
   "metadata": {},
   "source": [
    "**CONSULTAS - CYPHER**"
   ]
  },
  {
   "cell_type": "markdown",
   "metadata": {},
   "source": [
    "---Criacao de dados---\n",
    "LOAD CSV WITH HEADERS FROM 'https://raw.githubusercontent.com/obi10/trabalhoDados/master/jupyter/data/Paciente.csv' AS line\n",
    "CREATE (:Paciente { id: line.id, tipo: line.tipo, altura: line.altura, peso: line.peso, sexo: line.sexo, idade: line.idade})\n",
    "\n",
    "CREATE INDEX ON :Paciente(id)\n",
    "\n",
    "LOAD CSV WITH HEADERS FROM 'https://raw.githubusercontent.com/obi10/trabalhoDados/master/jupyter/data/Sintoma.csv' AS line\n",
    "CREATE (:Sintoma { codigo: line.codigo, nome: line.nome})\n",
    "\n",
    "CREATE INDEX ON :Sintoma(codigo)\n",
    "\n",
    "LOAD CSV WITH HEADERS FROM 'https://raw.githubusercontent.com/obi10/trabalhoDados/master/jupyter/data/PacienteSintoma.csv' AS line\n",
    "MATCH (p:Paciente {id: line.idPaciente})\n",
    "MATCH (s:Sintoma {codigo: line.codSintoma})\n",
    "CREATE (p)-[:tem]->(s)\n",
    "\n",
    "MATCH (p)-[:tem]->(s)\n",
    "RETURN p, s\n",
    "\n",
    "LOAD CSV WITH HEADERS FROM 'https://raw.githubusercontent.com/obi10/trabalhoDados/master/jupyter/data/Doenca.csv' AS line\n",
    "CREATE (:Doenca { id: line.id, nome: line.nome, categoria: line.categoria})\n",
    "\n",
    "CREATE INDEX ON :Doenca(id)\n",
    "\n",
    "LOAD CSV WITH HEADERS FROM 'https://raw.githubusercontent.com/obi10/trabalhoDados/master/jupyter/data/PacienteHistoricoDoencas.csv' AS line\n",
    "MATCH (p:Paciente {id: line.idPaciente})\n",
    "MATCH (d:Doenca {id: line.idDoenca})\n",
    "CREATE (p)-[:historico]->(d)\n",
    "\n",
    "MATCH (p)-[:tem]->(s)\n",
    "MATCH (p)-[:historico]->(d)\n",
    "RETURN p, s, d\n",
    "\n",
    "LOAD CSV WITH HEADERS FROM 'https://raw.githubusercontent.com/obi10/trabalhoDados/master/jupyter/data/ContaMedico.csv' AS line\n",
    "CREATE (:Medico { username: line.username, senha: line.senha, nome: line.nome, sobrenome: line.sobrenome, email: line.email, numCRM: line.numCRM, cidadeFederativa: line.cidadeFederativa, situacao: line.situacao})\n",
    "\n",
    "CREATE INDEX ON :Medico(username)\n",
    "\n",
    "LOAD CSV WITH HEADERS FROM 'https://raw.githubusercontent.com/obi10/trabalhoDados/master/jupyter/data/Recomendacao.csv' AS line\n",
    "MATCH (m:Medico {username: line.usernameMedico})\n",
    "MATCH (p:Paciente {id: line.idPaciente})\n",
    "CREATE (m)-[:Tratamento {id: line.idTratamento}]->(p)\n",
    "\n",
    "LOAD CSV WITH HEADERS FROM 'https://raw.githubusercontent.com/obi10/trabalhoDados/master/jupyter/data/Tratamento.csv' AS line\n",
    "MATCH (m)-[t:Tratamento {id: line.id}]->(p)\n",
    "SET t.idRemedio = line.idRemedio\n",
    "SET t.apreDosagem = line.apreDosagem\n",
    "SET t.dosis_mcg = line.dosis_mcg\n",
    "SET t.dosis_mg = line.dosis_mg\n",
    "SET t.dosis_ml = line.dosis_ml\n",
    "SET t.numGotas = line.numGotas\n",
    "SET t.repeticao = line.repeticao\n",
    "SET t.numVezesDia = line.numVezesDia\n",
    "SET t.numDias = line.numDias\n",
    "\n",
    "MATCH (m)-[t:Tratamento]->(p)\n",
    "MATCH (p)-[:historico]->(d)\n",
    "MATCH (p1: Paciente)\n",
    "MATCH (s: Sintoma)\n",
    "RETURN m, p, d, p1, s"
   ]
  }
 ],
 "metadata": {
  "kernelspec": {
   "display_name": "SQL",
   "language": "SQL",
   "name": "sql"
  },
  "language_info": {
   "codemirror_mode": "sql",
   "file_extension": ".sql",
   "mimetype": "",
   "name": "SQL",
   "nbconverter_exporter": "",
   "version": ""
  }
 },
 "nbformat": 4,
 "nbformat_minor": 2
}
