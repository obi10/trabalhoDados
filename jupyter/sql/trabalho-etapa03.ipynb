{
 "cells": [
  {
   "cell_type": "markdown",
   "metadata": {},
   "source": [
    "**MODELO CONCEITUAL (Versao 1.3)**"
   ]
  },
  {
   "cell_type": "markdown",
   "metadata": {},
   "source": [
    "![title](../img/modelo-conceitual-1.3.jpg)"
   ]
  },
  {
   "cell_type": "markdown",
   "metadata": {},
   "source": [
    "__MODELO RELACIONAL__\n",
    "\n",
    "Doenca(__id__, nome, categoria)\n",
    "\n",
    "Paciente(__id__, tipo, altura, peso, sexo, idade)\n",
    "\n",
    "Sintoma(__codigo__, nome)\n",
    "\n",
    "PacienteSintoma(__idPaciente__, __codSintoma__)<br/>\n",
    "FK: idPaciente - Paciente(id)<br/>\n",
    "FK: codSintoma - Sintoma(codigo)\n",
    "\n",
    "PacienteHistoricoDoencas(__idPaciente__, __idDoenca__)<br/>\n",
    "FK: idPaciente - Paciente(id)<br/>\n",
    "FK: idDoenca - Doenca(id)\n",
    "\n",
    "ContaMedico(__username__, senha, nome, sobrenome, email, numCRM, cidadeFederativa, situacao)\n",
    "\n",
    "Remedio(__id__, principioAtivo, laboratorio, nomeVenda, apresentacao, classeTerapeutica, tipo, restricaoHospitalar, tarja)\n",
    "\n",
    "Tratamento(__id__, __idRemedio__, apreDosagem, dosis_mcg, dosis_mg, dosis_ml, numGotas, repeticao, numVezesDia, numDias)<br/>\n",
    "FK: idRemedio - Remedio(id)\n",
    "\n",
    "Recomendacao(__codigo__, usernameMedico, idPaciente, __idTratamento__)<br/>\n",
    "FK: usernameMedico - Medico(username)<br/>\n",
    "FK: idPaciente - Paciente(id)"
   ]
  },
  {
   "cell_type": "markdown",
   "metadata": {},
   "source": [
    "__SQL__"
   ]
  },
  {
   "cell_type": "code",
   "execution_count": 2,
   "metadata": {},
   "outputs": [],
   "source": [
    "%defaultDatasource jdbc:h2:mem:db"
   ]
  },
  {
   "cell_type": "code",
   "execution_count": 3,
   "metadata": {},
   "outputs": [],
   "source": [
    "DROP TABLE IF EXISTS Doenca;\n",
    "DROP TABLE IF EXISTS Paciente;\n",
    "DROP TABLE IF EXISTS Sintoma;\n",
    "DROP TABLE IF EXISTS PacienteSintoma;\n",
    "DROP TABLE IF EXISTS PacienteHistoricoDoencas;\n",
    "DROP TABLE IF EXISTS ContaMedico;\n",
    "DROP TABLE IF EXISTS Remedio;\n",
    "DROP TABLE IF EXISTS Tratamento;\n",
    "DROP TABLE IF EXISTS Recomendacao;\n",
    "\n",
    "CREATE TABLE Doenca (\n",
    "  id VARCHAR(5) NOT NULL,\n",
    "  nome VARCHAR(50) NOT NULL,\n",
    "  categoria VARCHAR(50) NULL,\n",
    "  PRIMARY KEY(id)\n",
    ") AS SELECT\n",
    "    id,\n",
    "    nome,\n",
    "    categoria\n",
    "FROM CSVREAD('../data/Doenca.csv');\n",
    "\n",
    "CREATE TABLE Paciente (\n",
    "  id VARCHAR(10) NOT NULL,\n",
    "  tipo CHAR NOT NULL,\n",
    "  altura DOUBLE NOT NULL,\n",
    "  peso DOUBLE NOT NULL,\n",
    "  sexo CHAR NOT NULL,\n",
    "  idade INTEGER NOT NULL,\n",
    "  PRIMARY KEY(id)\n",
    ") AS SELECT\n",
    "    id,\n",
    "    tipo,\n",
    "    altura,\n",
    "    peso,\n",
    "    sexo,\n",
    "    idade\n",
    "FROM CSVREAD('../data/Paciente.csv');\n",
    "\n",
    "CREATE TABLE Sintoma (\n",
    "  codigo VARCHAR(5) NOT NULL,\n",
    "  nome VARCHAR(50) NOT NULL,\n",
    "  PRIMARY KEY(codigo)\n",
    ") AS SELECT\n",
    "    codigo,\n",
    "    nome\n",
    "FROM CSVREAD('../data/Sintoma.csv');\n",
    "\n",
    "CREATE TABLE PacienteSintoma (\n",
    "  idPaciente VARCHAR(10) NOT NULL,\n",
    "  codSintoma VARCHAR(5) NOT NULL,\n",
    "  PRIMARY KEY(idPaciente, codSintoma),\n",
    "  FOREIGN KEY(idPaciente)\n",
    "    REFERENCES Paciente(id)\n",
    "      ON DELETE NO ACTION\n",
    "      ON UPDATE NO ACTION,\n",
    "  FOREIGN KEY(codSintoma)\n",
    "    REFERENCES Sintoma(codigo)\n",
    "      ON DELETE NO ACTION\n",
    "      ON UPDATE NO ACTION\n",
    ") AS SELECT\n",
    "    idPaciente,\n",
    "    codSintoma\n",
    "FROM CSVREAD('../data/PacienteSintoma.csv');\n",
    "\n",
    "CREATE TABLE PacienteHistoricoDoencas (\n",
    "  idPaciente VARCHAR(10) NOT NULL,\n",
    "  idDoenca VARCHAR(5) NOT NULL,\n",
    "  PRIMARY KEY(idDoenca, idPaciente),\n",
    "  FOREIGN KEY(idPaciente)\n",
    "    REFERENCES Paciente(id)\n",
    "      ON DELETE NO ACTION\n",
    "      ON UPDATE NO ACTION,\n",
    "  FOREIGN KEY(idDoenca)\n",
    "    REFERENCES Doenca(id)\n",
    "      ON DELETE NO ACTION\n",
    "      ON UPDATE NO ACTION\n",
    ") AS SELECT\n",
    "    idPaciente,\n",
    "    idDoenca\n",
    "FROM CSVREAD('../data/PacienteHistoricoDoencas.csv');\n",
    "\n",
    "CREATE TABLE ContaMedico (\n",
    "  username VARCHAR(20) NOT NULL,\n",
    "  senha VARCHAR(20) NOT NULL,\n",
    "  nome VARCHAR(50) NOT NULL,\n",
    "  sobrenome VARCHAR(50) NOT NULL,\n",
    "  email VARCHAR(70) NOT NULL,\n",
    "  numCRM INTEGER NOT NULL,\n",
    "  cidadeFederativa VARCHAR(3) NOT NULL,\n",
    "  situacao CHAR NOT NULL,\n",
    "  PRIMARY KEY(username)\n",
    ") AS SELECT\n",
    "    username,\n",
    "    senha,\n",
    "    nome,\n",
    "    sobrenome,\n",
    "    email,\n",
    "    numCRM,\n",
    "    cidadeFederativa,\n",
    "    situacao\n",
    "FROM CSVREAD('../data/ContaMedico.csv');\n",
    "\n",
    "CREATE TABLE Remedio (\n",
    "  id VARCHAR(20) NOT NULL,\n",
    "  principioAtivo VARCHAR(250) NOT NULL,\n",
    "  laboratorio VARCHAR(150) NOT NULL,\n",
    "  nomeVenda VARCHAR(150) NOT NULL,\n",
    "  apresentacao VARCHAR(200) NULL,\n",
    "  classeTerapeutica VARCHAR(150) NULL,\n",
    "  tipo VARCHAR(150) NOT NULL,\n",
    "  restricaoHospitalar VARCHAR(50) NULL,\n",
    "  tarja VARCHAR(15) NULL,\n",
    "  PRIMARY KEY(id)\n",
    ") AS SELECT\n",
    "    ID_REMEDIO,\n",
    "    PRINCIPIO_ATIVO,\n",
    "    LABORATORIO,\n",
    "    PRODUTO,\n",
    "    APRESENTACAO,\n",
    "    CLASSE_TERAPEUTICA,\n",
    "    TIPO_DE_PRODUTO,\n",
    "    RESTRICAO_HOSPITALAR,\n",
    "    TARJA\n",
    "FROM CSVREAD('../data/Remedio.csv');\n",
    "\n",
    "CREATE TABLE Tratamento (\n",
    "  id VARCHAR(20) NOT NULL,\n",
    "  idRemedio VARCHAR(20) NOT NULL,\n",
    "  apreDosagem VARCHAR(20) NOT NULL,\n",
    "  dosis_mcg DOUBLE NULL,\n",
    "  dosis_mg DOUBLE NULL,\n",
    "  dosis_ml DOUBLE NULL,\n",
    "  numGotas DOUBLE NULL,\n",
    "  repeticao INTEGER NULL,\n",
    "  numVezesDia INTEGER NULL,\n",
    "  numDias INTEGER NULL,\n",
    "  PRIMARY KEY(id, idRemedio),\n",
    "  FOREIGN KEY(idRemedio)\n",
    "    REFERENCES Remedio(id)\n",
    "      ON DELETE NO ACTION\n",
    "      ON UPDATE NO ACTION\n",
    ") AS SELECT\n",
    "    id,\n",
    "    idRemedio,\n",
    "    apreDosagem,\n",
    "    dosis_mcg,\n",
    "    dosis_mg,\n",
    "    dosis_ml,\n",
    "    numGotas,\n",
    "    repeticao,\n",
    "    numVezesDia,\n",
    "    numDias\n",
    "FROM CSVREAD('../data/Tratamento.csv');\n",
    "\n",
    "CREATE TABLE Recomendacao (\n",
    "  codigo VARCHAR(10) NOT NULL,\n",
    "  usernameMedico VARCHAR(20) NOT NULL,\n",
    "  idPaciente VARCHAR(10) NOT NULL,\n",
    "  idTratamento VARCHAR(20) NOT NULL,\n",
    "  PRIMARY KEY(codigo, idTratamento),\n",
    "  FOREIGN KEY(usernameMedico)\n",
    "    REFERENCES ContaMedico(username)\n",
    "      ON DELETE NO ACTION\n",
    "      ON UPDATE NO ACTION,\n",
    "  FOREIGN KEY(idPaciente)\n",
    "    REFERENCES Paciente(id)\n",
    "      ON DELETE NO ACTION\n",
    "      ON UPDATE NO ACTION\n",
    "    --fazendo referencia à tabela Tratamento se apresenta o erro: 'Primary key violation',\n",
    "    --devido a que só se quere fazer referencia a um elemento (id) da superchave (id, idRemedio)\n",
    ") AS SELECT\n",
    "    codigo,\n",
    "    usernameMedico,\n",
    "    idPaciente,\n",
    "    idTratamento\n",
    "FROM CSVREAD('../data/Recomendacao.csv');"
   ]
  },
  {
   "cell_type": "markdown",
   "metadata": {},
   "source": [
    "**CONSULTAS**"
   ]
  },
  {
   "cell_type": "markdown",
   "metadata": {},
   "source": [
    "1) Quais sao os medicamentos escolhidos pelos doutores para tratar sintomas como: lacrimejo e coceira-olhos.<br/>\n",
    "Obs: ter em conta que estos sintomas se podem apresentar juntos com outros."
   ]
  },
  {
   "cell_type": "code",
   "execution_count": null,
   "metadata": {},
   "outputs": [],
   "source": [
    "SELECT Re.nomeVenda\n",
    "FROM Remedio AS Re\n",
    "WHERE Re.id IN (SELECT Reme.id\n",
    "                FROM Remedio AS Reme, Tratamento AS Tra, Recomendacao AS Reco, PacienteSintoma AS PaSin, Sintoma AS Sin\n",
    "                WHERE Sin.nome = 'lacrimejo' OR Sin.nome = 'coceira-olhos'\n",
    "                AND Sin.codigo = PaSin.codSintoma\n",
    "                AND PaSin.idPaciente = Reco.idPaciente\n",
    "                AND Reco.idTratamento = Tra.id\n",
    "                AND Tra.idRemedio = Reme.id)"
   ]
  },
  {
   "cell_type": "markdown",
   "metadata": {},
   "source": [
    "2) Que tipo de remedios sao receitados às pessoas que sofrem de pressao alta, quando apresentan congestionamento nasal."
   ]
  },
  {
   "cell_type": "code",
   "execution_count": 5,
   "metadata": {},
   "outputs": [
    {
     "data": {
      "application/vnd.jupyter.widget-view+json": {
       "model_id": "2c12c862-1836-4210-9c44-d6f81f949bd4",
       "version_major": 2,
       "version_minor": 0
      },
      "method": "display_data"
     },
     "metadata": {},
     "output_type": "display_data"
    }
   ],
   "source": [
    "SELECT DISTINCT nomeVenda, tarja\n",
    "FROM Remedio\n",
    "WHERE tarja = 'Tarja Preta' OR tarja = 'Tarja Vermelha'\n",
    "ORDER BY nomeVenda"
   ]
  },
  {
   "cell_type": "markdown",
   "metadata": {},
   "source": [
    "3) Quando os pacientes que sofrem de insuficiencia renal tem sintomas de alergia (lacrimejo, coceira-olhos, coriza ou vermelhidao), a quantidade de medicamento receitado segue algum padrao?"
   ]
  },
  {
   "cell_type": "code",
   "execution_count": 6,
   "metadata": {},
   "outputs": [
    {
     "data": {
      "application/vnd.jupyter.widget-view+json": {
       "model_id": "5b9fdb47-6a0f-48ae-b09b-2452194cd54a",
       "version_major": 2,
       "version_minor": 0
      },
      "method": "display_data"
     },
     "metadata": {},
     "output_type": "display_data"
    }
   ],
   "source": [
    "SELECT M.nome, R.id, R.nomeVenda\n",
    "FROM Recomendacao Re, ContaMedico M, Tratamento T, Remedio R\n",
    "WHERE Re.usernameMedico = M.username AND Re.idTratamento = T.id AND T.idRemedio = R.id AND\n",
    "T.tempoUso > 5"
   ]
  },
  {
   "cell_type": "markdown",
   "metadata": {},
   "source": [
    "4) Quando uma crian"
   ]
  }
 ],
 "metadata": {
  "kernelspec": {
   "display_name": "SQL",
   "language": "SQL",
   "name": "sql"
  },
  "language_info": {
   "codemirror_mode": "sql",
   "file_extension": ".sql",
   "mimetype": "",
   "name": "SQL",
   "nbconverter_exporter": "",
   "version": ""
  }
 },
 "nbformat": 4,
 "nbformat_minor": 2
}
